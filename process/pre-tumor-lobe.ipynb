{
 "cells": [
  {
   "cell_type": "code",
   "execution_count": null,
   "id": "f40834e6",
   "metadata": {},
   "outputs": [
    {
     "name": "stdout",
     "output_type": "stream",
     "text": [
      "/workspaces/data/brain_meningioma/bet/b_test/BraTS-MEN-RT-0022-1_t1c_bet.nii.gz 1291.0\n",
      "Loaded MNI shape: (182, 218, 182)\n",
      "MNI spacing: (1.0, 1.0, 1.0)\n"
     ]
    },
    {
     "data": {
      "text/html": [
       "<pre style=\"white-space:pre;overflow-x:auto;line-height:normal;font-family:Menlo,'DejaVu Sans Mono',consolas,'Courier New',monospace\"><span style=\"color: #000080; text-decoration-color: #000080; font-weight: bold\">[</span><span style=\"color: #000080; text-decoration-color: #000080\">fetch_atlas_harvard_oxford</span><span style=\"color: #000080; text-decoration-color: #000080; font-weight: bold\">]</span> Dataset found in <span style=\"color: #800080; text-decoration-color: #800080\">/home/vscode/nilearn_data/</span><span style=\"color: #ff00ff; text-decoration-color: #ff00ff\">fsl</span>\n",
       "</pre>\n"
      ],
      "text/plain": [
       "\u001b[1;34m[\u001b[0m\u001b[34mfetch_atlas_harvard_oxford\u001b[0m\u001b[1;34m]\u001b[0m Dataset found in \u001b[35m/home/vscode/nilearn_data/\u001b[0m\u001b[95mfsl\u001b[0m\n"
      ]
     },
     "metadata": {},
     "output_type": "display_data"
    },
    {
     "name": "stdout",
     "output_type": "stream",
     "text": [
      "=== Detected Brain Regions Overlapping with Mask ===\n",
      "- Precuneous Cortex\n"
     ]
    },
    {
     "name": "stderr",
     "output_type": "stream",
     "text": [
      "/tmp/ipykernel_13686/3685079099.py:59: FutureWarning: 'force_resample' will be set to 'True' by default in Nilearn 0.13.0.\n",
      "Use 'force_resample=True' to suppress this warning.\n",
      "  resampled_mask = image.resample_to_img(registered_mask_nib, atlas_img, interpolation='nearest')\n",
      "/tmp/ipykernel_13686/3685079099.py:59: FutureWarning: From release 0.13.0 onwards, this function will, by default, copy the header of the input image to the output. Currently, the header is reset to the default Nifti1Header. To suppress this warning and use the new behavior, set `copy_header=True`.\n",
      "  resampled_mask = image.resample_to_img(registered_mask_nib, atlas_img, interpolation='nearest')\n"
     ]
    }
   ],
   "source": [
    "import ants\n",
    "import nibabel as nib\n",
    "import numpy as np\n",
    "from nilearn import datasets, image\n",
    "import glob\n",
    "import os\n",
    "\n",
    "data_root = '/workspaces/data/brain_meningioma/bet'\n",
    "testImages = glob.glob(os.path.join(data_root,'b_test/*bet.nii.gz'))\n",
    "# testGTVs = \n",
    "testImage = testImages[2]\n",
    "\n",
    "# === Step 1: Load your MRI and mask ===\n",
    "moving_img = ants.image_read(testImage)  # MRI (with or without skull)\n",
    "moving_mask = ants.image_read(testImage.replace('_bet','_gtv_mask'))  # binary mask (e.g., tumor)\n",
    "print(testImage, moving_mask.sum())\n",
    "\n",
    "# === Step 2: Download and load MNI152 template ===\n",
    "mni = ants.image_read(ants.get_ants_data(\"mni\"))\n",
    "print(\"Loaded MNI shape:\", mni.shape)\n",
    "print(\"MNI spacing:\", mni.spacing)\n",
    "\n",
    "# === Step 3: Register your image to MNI ===\n",
    "reg = ants.registration(fixed=mni, moving=moving_img, type_of_transform=\"SyN\")\n",
    "registered_img = reg[\"warpedmovout\"]\n",
    "\n",
    "# === Step 4: Transform your mask into MNI space ===\n",
    "registered_mask = ants.apply_transforms(\n",
    "    fixed=mni,\n",
    "    moving=moving_mask,\n",
    "    transformlist=reg[\"fwdtransforms\"],\n",
    "    interpolator=\"nearestNeighbor\"\n",
    ")\n",
    "\n",
    "# Save registered mask if needed\n",
    "# ants.image_write(registered_mask, \"mask_in_mni.nii.gz\")\n",
    "\n",
    "# === Step 5: Load Harvard-Oxford atlas ===\n",
    "atlas = datasets.fetch_atlas_harvard_oxford(\"cort-maxprob-thr25-1mm\")\n",
    "atlas_img = nib.load(atlas.filename)\n",
    "atlas_data = atlas_img.get_fdata()\n",
    "atlas_labels = atlas.labels\n",
    "\n",
    "# === Step 6: Resample mask to match atlas ===\n",
    "# registered_mask_nib = nib.Nifti1Image(registered_mask.numpy(), affine=registered_mask.affine)\n",
    "# registered_mask_nib = ants.to_nibabel(registered_mask)\n",
    "mask_data = registered_mask.numpy()\n",
    "spacing = registered_mask.spacing\n",
    "direction = registered_mask.direction\n",
    "origin = registered_mask.origin\n",
    "affine = np.eye(4)\n",
    "for i in range(3):\n",
    "    for j in range(3):\n",
    "        affine[i, j] = direction[i, j] * spacing[j]\n",
    "    affine[i, 3] = origin[i]\n",
    "registered_mask_nib = nib.Nifti1Image(mask_data, affine=affine)\n",
    "\n",
    "\n",
    "resampled_mask = image.resample_to_img(registered_mask_nib, atlas_img, interpolation='nearest')\n",
    "mask_data = resampled_mask.get_fdata()\n",
    "\n",
    "# === Step 7: Extract overlapped regions ===\n",
    "label_ids = atlas_data[mask_data > 0]\n",
    "unique_ids = np.unique(label_ids.astype(int))\n",
    "region_ids = unique_ids[unique_ids > 0]\n",
    "region_names = [atlas_labels[i] for i in region_ids]\n",
    "\n",
    "# === Step 8: Print regions ===\n",
    "print(\"=== Detected Brain Regions Overlapping with Mask ===\")\n",
    "for name in region_names:\n",
    "    print(f\"- {name}\")\n"
   ]
  },
  {
   "cell_type": "code",
   "execution_count": 39,
   "id": "a122b7cf",
   "metadata": {},
   "outputs": [
    {
     "data": {
      "text/plain": [
       "512.0"
      ]
     },
     "execution_count": 39,
     "metadata": {},
     "output_type": "execute_result"
    }
   ],
   "source": [
    "mask_data.sum()"
   ]
  },
  {
   "cell_type": "code",
   "execution_count": null,
   "id": "06120086",
   "metadata": {},
   "outputs": [
    {
     "name": "stdout",
     "output_type": "stream",
     "text": [
      "Selected image: /workspaces/data/brain_meningioma/bet/b_test/BraTS-MEN-RT-0022-1_t1c_bet.nii.gz\n",
      "Mask values: [0. 1.]\n",
      "/workspaces/data/brain_meningioma/bet/b_test/BraTS-MEN-RT-0022-1_t1c_bet.nii.gz 1291.0\n"
     ]
    },
    {
     "data": {
      "text/html": [
       "<pre style=\"white-space:pre;overflow-x:auto;line-height:normal;font-family:Menlo,'DejaVu Sans Mono',consolas,'Courier New',monospace\"><span style=\"color: #000080; text-decoration-color: #000080; font-weight: bold\">[</span><span style=\"color: #000080; text-decoration-color: #000080\">fetch_icbm152_2009</span><span style=\"color: #000080; text-decoration-color: #000080; font-weight: bold\">]</span> Dataset found in <span style=\"color: #800080; text-decoration-color: #800080\">/home/vscode/nilearn_data/</span><span style=\"color: #ff00ff; text-decoration-color: #ff00ff\">icbm152_2009</span>\n",
       "</pre>\n"
      ],
      "text/plain": [
       "\u001b[1;34m[\u001b[0m\u001b[34mfetch_icbm152_2009\u001b[0m\u001b[1;34m]\u001b[0m Dataset found in \u001b[35m/home/vscode/nilearn_data/\u001b[0m\u001b[95micbm152_2009\u001b[0m\n"
      ]
     },
     "metadata": {},
     "output_type": "display_data"
    },
    {
     "name": "stdout",
     "output_type": "stream",
     "text": [
      "MNI spacing: (1.0, 1.0, 1.0) shape: (197, 233, 189)\n"
     ]
    },
    {
     "data": {
      "text/html": [
       "<pre style=\"white-space:pre;overflow-x:auto;line-height:normal;font-family:Menlo,'DejaVu Sans Mono',consolas,'Courier New',monospace\"><span style=\"color: #000080; text-decoration-color: #000080; font-weight: bold\">[</span><span style=\"color: #000080; text-decoration-color: #000080\">fetch_atlas_harvard_oxford</span><span style=\"color: #000080; text-decoration-color: #000080; font-weight: bold\">]</span> Dataset found in <span style=\"color: #800080; text-decoration-color: #800080\">/home/vscode/nilearn_data/</span><span style=\"color: #ff00ff; text-decoration-color: #ff00ff\">fsl</span>\n",
       "</pre>\n"
      ],
      "text/plain": [
       "\u001b[1;34m[\u001b[0m\u001b[34mfetch_atlas_harvard_oxford\u001b[0m\u001b[1;34m]\u001b[0m Dataset found in \u001b[35m/home/vscode/nilearn_data/\u001b[0m\u001b[95mfsl\u001b[0m\n"
      ]
     },
     "metadata": {},
     "output_type": "display_data"
    },
    {
     "name": "stderr",
     "output_type": "stream",
     "text": [
      "/tmp/ipykernel_1684/3559323188.py:65: FutureWarning: 'force_resample' will be set to 'True' by default in Nilearn 0.13.0.\n",
      "Use 'force_resample=True' to suppress this warning.\n",
      "  resampled_mask = image.resample_to_img(registered_mask_nib, atlas_img, interpolation='nearest')\n",
      "/tmp/ipykernel_1684/3559323188.py:65: FutureWarning: From release 0.13.0 onwards, this function will, by default, copy the header of the input image to the output. Currently, the header is reset to the default Nifti1Header. To suppress this warning and use the new behavior, set `copy_header=True`.\n",
      "  resampled_mask = image.resample_to_img(registered_mask_nib, atlas_img, interpolation='nearest')\n"
     ]
    },
    {
     "name": "stdout",
     "output_type": "stream",
     "text": [
      "=== Detected Brain Regions Overlapping with Mask ===\n",
      "- Lateral Occipital Cortex, superior division\n",
      "- Lateral Occipital Cortex, inferior division\n"
     ]
    }
   ],
   "source": [
    "import ants\n",
    "import nibabel as nib\n",
    "import numpy as np\n",
    "from nilearn import datasets, image\n",
    "import glob\n",
    "import os\n",
    "\n",
    "# === Step 1: Load your MRI and mask ===\n",
    "data_root = '/workspaces/data/brain_meningioma/bet'\n",
    "testImages = sorted(glob.glob(os.path.join(data_root, 'b_test/*bet.nii.gz')))\n",
    "if not testImages:\n",
    "    raise FileNotFoundError(f\"No files found in {os.path.join(data_root, 'b_test/*bet.nii.gz')}\")\n",
    "testImage = testImages[3]\n",
    "print(\"Selected image:\", testImage)\n",
    "\n",
    "mask_file = testImage.replace('_bet', '_gtv_mask')\n",
    "if not os.path.exists(mask_file):\n",
    "    raise FileNotFoundError(f\"Mask file not found: {mask_file}\")\n",
    "\n",
    "moving_img = ants.image_read(testImage)\n",
    "moving_mask = ants.image_read(mask_file)\n",
    "print(\"Mask values:\", np.unique(moving_mask.numpy()))\n",
    "print(testImage, moving_mask.sum())\n",
    "\n",
    "# === Step 2: Download and load MNI152 template ===\n",
    "mni_dataset = datasets.fetch_icbm152_2009()\n",
    "mni = ants.image_read(mni_dataset.t1)\n",
    "print(\"MNI spacing:\", mni.spacing, \"shape:\", mni.shape)\n",
    "\n",
    "# === Step 3: Register your image to MNI ===\n",
    "reg = ants.registration(fixed=mni, moving=moving_img, type_of_transform=\"SyNRA\")\n",
    "registered_img = reg[\"warpedmovout\"]\n",
    "\n",
    "# === Step 4: Transform your mask into MNI space ===\n",
    "moving_mask = ants.threshold_image(moving_mask, low_thresh=0.5, high_thresh=1e9)\n",
    "registered_mask = ants.apply_transforms(\n",
    "    fixed=mni,\n",
    "    moving=moving_mask,\n",
    "    transformlist=reg[\"fwdtransforms\"],\n",
    "    interpolator=\"nearestNeighbor\"\n",
    ")\n",
    "\n",
    "# === Step 5: Load Harvard-Oxford atlas ===\n",
    "atlas = datasets.fetch_atlas_harvard_oxford(\"cort-maxprob-thr25-1mm\")\n",
    "atlas_img = nib.load(atlas.filename)\n",
    "atlas_data = atlas_img.get_fdata()\n",
    "atlas_labels = atlas.labels\n",
    "\n",
    "# === Step 6: Resample mask to match atlas ===\n",
    "try:\n",
    "    registered_mask_nib = registered_mask.to_nibabel()\n",
    "except AttributeError:\n",
    "    # Fallback if to_nibabel() is unavailable\n",
    "    mask_data = registered_mask.numpy()\n",
    "    spacing = registered_mask.spacing\n",
    "    direction = registered_mask.direction\n",
    "    origin = registered_mask.origin\n",
    "    affine = np.eye(4)\n",
    "    for i in range(3):\n",
    "        for j in range(3):\n",
    "            affine[i, j] = direction[i, j] * spacing[j]\n",
    "        affine[i, 3] = origin[i]\n",
    "    registered_mask_nib = nib.Nifti1Image(mask_data, affine=affine)\n",
    "\n",
    "resampled_mask = image.resample_to_img(registered_mask_nib, atlas_img, interpolation='nearest')\n",
    "mask_data = resampled_mask.get_fdata()\n",
    "if not np.all(np.isin(np.unique(mask_data), [0, 1])):\n",
    "    print(\"Warning: Resampled mask is not binary, binarizing...\")\n",
    "    mask_data = (mask_data > 0.5).astype(np.float64)\n",
    "\n",
    "# === Step 7: Extract overlapped regions ===\n",
    "label_ids = atlas_data[mask_data > 0]\n",
    "unique_ids = np.unique(label_ids.astype(int))\n",
    "region_ids = unique_ids[unique_ids > 0]\n",
    "if np.max(unique_ids) >= len(atlas_labels):\n",
    "    raise ValueError(f\"Atlas label index {np.max(unique_ids)} exceeds number of labels ({len(atlas_labels)})\")\n",
    "region_names = [atlas_labels[i] for i in region_ids]\n",
    "\n",
    "# === Step 8: Print regions ===\n",
    "print(\"=== Detected Brain Regions Overlapping with Mask ===\")\n",
    "if not region_names:\n",
    "    print(\"No overlapping regions found. Check registration and resampling.\")\n",
    "else:\n",
    "    for name in region_names:\n",
    "        print(f\"- {name}\")\n"
   ]
  },
  {
   "cell_type": "code",
   "execution_count": 43,
   "id": "d0aa5959",
   "metadata": {},
   "outputs": [
    {
     "data": {
      "text/plain": [
       "523.0"
      ]
     },
     "execution_count": 43,
     "metadata": {},
     "output_type": "execute_result"
    }
   ],
   "source": [
    "mask_data.sum()"
   ]
  },
  {
   "cell_type": "code",
   "execution_count": 20,
   "id": "814d8de1",
   "metadata": {},
   "outputs": [
    {
     "data": {
      "text/plain": [
       "ANTsImage (RPI)\n",
       "\t Pixel Type : float (float32)\n",
       "\t Components : 1\n",
       "\t Dimensions : (182, 218, 182)\n",
       "\t Spacing    : (1.0, 1.0, 1.0)\n",
       "\t Origin     : (-90.0, 126.0, -72.0)\n",
       "\t Direction  : [ 1.  0.  0.  0. -1.  0.  0.  0.  1.]"
      ]
     },
     "execution_count": 20,
     "metadata": {},
     "output_type": "execute_result"
    }
   ],
   "source": [
    "registered_mask"
   ]
  },
  {
   "cell_type": "code",
   "execution_count": null,
   "id": "5a98c985",
   "metadata": {},
   "outputs": [],
   "source": []
  }
 ],
 "metadata": {
  "kernelspec": {
   "display_name": "Python 3",
   "language": "python",
   "name": "python3"
  },
  "language_info": {
   "codemirror_mode": {
    "name": "ipython",
    "version": 3
   },
   "file_extension": ".py",
   "mimetype": "text/x-python",
   "name": "python",
   "nbconvert_exporter": "python",
   "pygments_lexer": "ipython3",
   "version": "3.10.12"
  }
 },
 "nbformat": 4,
 "nbformat_minor": 5
}
