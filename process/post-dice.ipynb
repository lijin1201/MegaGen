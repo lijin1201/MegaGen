{
 "cells": [
  {
   "cell_type": "markdown",
   "id": "ae9d6439",
   "metadata": {},
   "source": [
    "#Calculate the dice value and loss using saved pt parameters and check values"
   ]
  },
  {
   "cell_type": "code",
   "execution_count": null,
   "id": "b95c415f",
   "metadata": {
    "vscode": {
     "languageId": "plaintext"
    }
   },
   "outputs": [],
   "source": []
  }
 ],
 "metadata": {
  "language_info": {
   "name": "python"
  }
 },
 "nbformat": 4,
 "nbformat_minor": 5
}
