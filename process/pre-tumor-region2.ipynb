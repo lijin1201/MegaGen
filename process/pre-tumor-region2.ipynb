{
 "cells": [
  {
   "cell_type": "code",
   "execution_count": 1,
   "id": "6a2f047c",
   "metadata": {},
   "outputs": [],
   "source": [
    "#get tumor's position dataframe\n",
    "import pandas as pd\n",
    "import numpy as np\n",
    "import os\n",
    "import json\n",
    "import glob\n",
    "# import SimpleITK as sitk\n",
    "import matplotlib.pyplot as plt"
   ]
  },
  {
   "cell_type": "code",
   "execution_count": 2,
   "id": "6482c091",
   "metadata": {},
   "outputs": [],
   "source": [
    "tumord = pd.read_csv('/workspaces/data/brain_meningioma/tumor_centers.csv')"
   ]
  },
  {
   "cell_type": "code",
   "execution_count": 3,
   "id": "cbfea8ad",
   "metadata": {},
   "outputs": [
    {
     "data": {
      "text/html": [
       "<div>\n",
       "<style scoped>\n",
       "    .dataframe tbody tr th:only-of-type {\n",
       "        vertical-align: middle;\n",
       "    }\n",
       "\n",
       "    .dataframe tbody tr th {\n",
       "        vertical-align: top;\n",
       "    }\n",
       "\n",
       "    .dataframe thead th {\n",
       "        text-align: right;\n",
       "    }\n",
       "</style>\n",
       "<table border=\"1\" class=\"dataframe\">\n",
       "  <thead>\n",
       "    <tr style=\"text-align: right;\">\n",
       "      <th></th>\n",
       "      <th>PatientID</th>\n",
       "      <th>SliceIdx</th>\n",
       "      <th>Y</th>\n",
       "      <th>X</th>\n",
       "      <th>Region</th>\n",
       "      <th>MaskPath</th>\n",
       "      <th>IoU</th>\n",
       "      <th>PredY</th>\n",
       "      <th>PredX</th>\n",
       "    </tr>\n",
       "  </thead>\n",
       "  <tbody>\n",
       "    <tr>\n",
       "      <th>0</th>\n",
       "      <td>BraTS-MEN-RT-0002-1</td>\n",
       "      <td>123</td>\n",
       "      <td>85.676471</td>\n",
       "      <td>34.147059</td>\n",
       "      <td>Temporal_L</td>\n",
       "      <td>/Users/iujeong/0.local/4.slice/s_train/npy/Bra...</td>\n",
       "      <td>0.023555</td>\n",
       "      <td>55.072072</td>\n",
       "      <td>67.254505</td>\n",
       "    </tr>\n",
       "    <tr>\n",
       "      <th>1</th>\n",
       "      <td>BraTS-MEN-RT-0002-1</td>\n",
       "      <td>124</td>\n",
       "      <td>85.944444</td>\n",
       "      <td>34.481481</td>\n",
       "      <td>Temporal_L</td>\n",
       "      <td>/Users/iujeong/0.local/4.slice/s_train/npy/Bra...</td>\n",
       "      <td>0.039832</td>\n",
       "      <td>56.868778</td>\n",
       "      <td>66.821267</td>\n",
       "    </tr>\n",
       "    <tr>\n",
       "      <th>2</th>\n",
       "      <td>BraTS-MEN-RT-0002-1</td>\n",
       "      <td>125</td>\n",
       "      <td>85.944444</td>\n",
       "      <td>34.481481</td>\n",
       "      <td>Temporal_L</td>\n",
       "      <td>/Users/iujeong/0.local/4.slice/s_train/npy/Bra...</td>\n",
       "      <td>0.044750</td>\n",
       "      <td>62.226040</td>\n",
       "      <td>85.674503</td>\n",
       "    </tr>\n",
       "    <tr>\n",
       "      <th>3</th>\n",
       "      <td>BraTS-MEN-RT-0002-1</td>\n",
       "      <td>126</td>\n",
       "      <td>86.608247</td>\n",
       "      <td>35.041237</td>\n",
       "      <td>Temporal_L</td>\n",
       "      <td>/Users/iujeong/0.local/4.slice/s_train/npy/Bra...</td>\n",
       "      <td>0.063647</td>\n",
       "      <td>67.926166</td>\n",
       "      <td>90.937824</td>\n",
       "    </tr>\n",
       "    <tr>\n",
       "      <th>4</th>\n",
       "      <td>BraTS-MEN-RT-0002-1</td>\n",
       "      <td>127</td>\n",
       "      <td>86.503226</td>\n",
       "      <td>35.290323</td>\n",
       "      <td>Temporal_L</td>\n",
       "      <td>/Users/iujeong/0.local/4.slice/s_train/npy/Bra...</td>\n",
       "      <td>0.010453</td>\n",
       "      <td>67.327273</td>\n",
       "      <td>100.422378</td>\n",
       "    </tr>\n",
       "  </tbody>\n",
       "</table>\n",
       "</div>"
      ],
      "text/plain": [
       "             PatientID  SliceIdx          Y          X      Region  \\\n",
       "0  BraTS-MEN-RT-0002-1       123  85.676471  34.147059  Temporal_L   \n",
       "1  BraTS-MEN-RT-0002-1       124  85.944444  34.481481  Temporal_L   \n",
       "2  BraTS-MEN-RT-0002-1       125  85.944444  34.481481  Temporal_L   \n",
       "3  BraTS-MEN-RT-0002-1       126  86.608247  35.041237  Temporal_L   \n",
       "4  BraTS-MEN-RT-0002-1       127  86.503226  35.290323  Temporal_L   \n",
       "\n",
       "                                            MaskPath       IoU      PredY  \\\n",
       "0  /Users/iujeong/0.local/4.slice/s_train/npy/Bra...  0.023555  55.072072   \n",
       "1  /Users/iujeong/0.local/4.slice/s_train/npy/Bra...  0.039832  56.868778   \n",
       "2  /Users/iujeong/0.local/4.slice/s_train/npy/Bra...  0.044750  62.226040   \n",
       "3  /Users/iujeong/0.local/4.slice/s_train/npy/Bra...  0.063647  67.926166   \n",
       "4  /Users/iujeong/0.local/4.slice/s_train/npy/Bra...  0.010453  67.327273   \n",
       "\n",
       "        PredX  \n",
       "0   67.254505  \n",
       "1   66.821267  \n",
       "2   85.674503  \n",
       "3   90.937824  \n",
       "4  100.422378  "
      ]
     },
     "execution_count": 3,
     "metadata": {},
     "output_type": "execute_result"
    }
   ],
   "source": [
    "tumord.describe()\n",
    "tumord.head()"
   ]
  },
  {
   "cell_type": "code",
   "execution_count": null,
   "id": "09bc042f",
   "metadata": {},
   "outputs": [],
   "source": [
    "tumorGid = tumord.groupby('PatientID')\n",
    "tumorRegions = tumorGid['Region'].value_counts()\n",
    "tumorIDR1 = tumorRegions.groupby(level=0).idxmax().to_frame()\n",
    "tumorIDR1['regionL'] = tumorIDR1['count'].apply(lambda x: x[1])"
   ]
  },
  {
   "cell_type": "code",
   "execution_count": null,
   "id": "42aa896c",
   "metadata": {},
   "outputs": [],
   "source": [
    "\n",
    "#['Region'].apply(lambda x: x[0])"
   ]
  },
  {
   "cell_type": "code",
   "execution_count": 35,
   "id": "7a5152cd",
   "metadata": {},
   "outputs": [
    {
     "data": {
      "text/html": [
       "<div>\n",
       "<style scoped>\n",
       "    .dataframe tbody tr th:only-of-type {\n",
       "        vertical-align: middle;\n",
       "    }\n",
       "\n",
       "    .dataframe tbody tr th {\n",
       "        vertical-align: top;\n",
       "    }\n",
       "\n",
       "    .dataframe thead th {\n",
       "        text-align: right;\n",
       "    }\n",
       "</style>\n",
       "<table border=\"1\" class=\"dataframe\">\n",
       "  <thead>\n",
       "    <tr style=\"text-align: right;\">\n",
       "      <th></th>\n",
       "      <th>count</th>\n",
       "      <th>regionL</th>\n",
       "    </tr>\n",
       "    <tr>\n",
       "      <th>PatientID</th>\n",
       "      <th></th>\n",
       "      <th></th>\n",
       "    </tr>\n",
       "  </thead>\n",
       "  <tbody>\n",
       "    <tr>\n",
       "      <th>BraTS-MEN-RT-0002-1</th>\n",
       "      <td>(BraTS-MEN-RT-0002-1, Temporal_L)</td>\n",
       "      <td>Temporal_L</td>\n",
       "    </tr>\n",
       "    <tr>\n",
       "      <th>BraTS-MEN-RT-0003-1</th>\n",
       "      <td>(BraTS-MEN-RT-0003-1, Temporal_R)</td>\n",
       "      <td>Temporal_R</td>\n",
       "    </tr>\n",
       "    <tr>\n",
       "      <th>BraTS-MEN-RT-0004-1</th>\n",
       "      <td>(BraTS-MEN-RT-0004-1, Parietal)</td>\n",
       "      <td>Parietal</td>\n",
       "    </tr>\n",
       "    <tr>\n",
       "      <th>BraTS-MEN-RT-0006-1</th>\n",
       "      <td>(BraTS-MEN-RT-0006-1, Temporal_R)</td>\n",
       "      <td>Temporal_R</td>\n",
       "    </tr>\n",
       "    <tr>\n",
       "      <th>BraTS-MEN-RT-0007-1</th>\n",
       "      <td>(BraTS-MEN-RT-0007-1, Temporal_R)</td>\n",
       "      <td>Temporal_R</td>\n",
       "    </tr>\n",
       "    <tr>\n",
       "      <th>...</th>\n",
       "      <td>...</td>\n",
       "      <td>...</td>\n",
       "    </tr>\n",
       "    <tr>\n",
       "      <th>BraTS-MEN-RT-0619-1</th>\n",
       "      <td>(BraTS-MEN-RT-0619-1, Parietal)</td>\n",
       "      <td>Parietal</td>\n",
       "    </tr>\n",
       "    <tr>\n",
       "      <th>BraTS-MEN-RT-0620-1</th>\n",
       "      <td>(BraTS-MEN-RT-0620-1, Parietal)</td>\n",
       "      <td>Parietal</td>\n",
       "    </tr>\n",
       "    <tr>\n",
       "      <th>BraTS-MEN-RT-0621-1</th>\n",
       "      <td>(BraTS-MEN-RT-0621-1, Frontal)</td>\n",
       "      <td>Frontal</td>\n",
       "    </tr>\n",
       "    <tr>\n",
       "      <th>BraTS-MEN-RT-0623-1</th>\n",
       "      <td>(BraTS-MEN-RT-0623-1, Temporal_R)</td>\n",
       "      <td>Temporal_R</td>\n",
       "    </tr>\n",
       "    <tr>\n",
       "      <th>BraTS-MEN-RT-0625-1</th>\n",
       "      <td>(BraTS-MEN-RT-0625-1, Parietal)</td>\n",
       "      <td>Parietal</td>\n",
       "    </tr>\n",
       "  </tbody>\n",
       "</table>\n",
       "<p>495 rows × 2 columns</p>\n",
       "</div>"
      ],
      "text/plain": [
       "                                                 count     regionL\n",
       "PatientID                                                         \n",
       "BraTS-MEN-RT-0002-1  (BraTS-MEN-RT-0002-1, Temporal_L)  Temporal_L\n",
       "BraTS-MEN-RT-0003-1  (BraTS-MEN-RT-0003-1, Temporal_R)  Temporal_R\n",
       "BraTS-MEN-RT-0004-1    (BraTS-MEN-RT-0004-1, Parietal)    Parietal\n",
       "BraTS-MEN-RT-0006-1  (BraTS-MEN-RT-0006-1, Temporal_R)  Temporal_R\n",
       "BraTS-MEN-RT-0007-1  (BraTS-MEN-RT-0007-1, Temporal_R)  Temporal_R\n",
       "...                                                ...         ...\n",
       "BraTS-MEN-RT-0619-1    (BraTS-MEN-RT-0619-1, Parietal)    Parietal\n",
       "BraTS-MEN-RT-0620-1    (BraTS-MEN-RT-0620-1, Parietal)    Parietal\n",
       "BraTS-MEN-RT-0621-1     (BraTS-MEN-RT-0621-1, Frontal)     Frontal\n",
       "BraTS-MEN-RT-0623-1  (BraTS-MEN-RT-0623-1, Temporal_R)  Temporal_R\n",
       "BraTS-MEN-RT-0625-1    (BraTS-MEN-RT-0625-1, Parietal)    Parietal\n",
       "\n",
       "[495 rows x 2 columns]"
      ]
     },
     "execution_count": 35,
     "metadata": {},
     "output_type": "execute_result"
    }
   ],
   "source": [
    "tumorIDR1"
   ]
  },
  {
   "cell_type": "code",
   "execution_count": 27,
   "id": "c9cdebf7",
   "metadata": {},
   "outputs": [
    {
     "name": "stderr",
     "output_type": "stream",
     "text": [
      "/tmp/ipykernel_89670/1062854604.py:2: SettingWithCopyWarning: \n",
      "A value is trying to be set on a copy of a slice from a DataFrame.\n",
      "Try using .loc[row_indexer,col_indexer] = value instead\n",
      "\n",
      "See the caveats in the documentation: https://pandas.pydata.org/pandas-docs/stable/user_guide/indexing.html#returning-a-view-versus-a-copy\n",
      "  tumorIdR1['regionL'] = tumorId_R['regionL'].apply(lambda x: x[0] )\n"
     ]
    }
   ],
   "source": [
    "tumorIdR1 = tumorId_R[tumorId_R['regionL'].apply(len) == 1]\n",
    "tumorIdR1['regionL'] = tumorId_R['regionL'].apply(lambda x: x[0] )"
   ]
  },
  {
   "cell_type": "code",
   "execution_count": 32,
   "id": "f8ac2a0a",
   "metadata": {},
   "outputs": [
    {
     "name": "stderr",
     "output_type": "stream",
     "text": [
      "/tmp/ipykernel_89670/157682290.py:1: SettingWithCopyWarning: \n",
      "A value is trying to be set on a copy of a slice from a DataFrame.\n",
      "Try using .loc[row_indexer,col_indexer] = value instead\n",
      "\n",
      "See the caveats in the documentation: https://pandas.pydata.org/pandas-docs/stable/user_guide/indexing.html#returning-a-view-versus-a-copy\n",
      "  tumorIdR1['id'] = tumorIdR1.index.map(lambda x: x.split('-')[3] )\n"
     ]
    }
   ],
   "source": [
    "tumorIdR1['id'] = tumorIdR1.index.map(lambda x: x.split('-')[3] )"
   ]
  },
  {
   "cell_type": "code",
   "execution_count": null,
   "id": "655650eb",
   "metadata": {},
   "outputs": [
    {
     "data": {
      "text/html": [
       "<div>\n",
       "<style scoped>\n",
       "    .dataframe tbody tr th:only-of-type {\n",
       "        vertical-align: middle;\n",
       "    }\n",
       "\n",
       "    .dataframe tbody tr th {\n",
       "        vertical-align: top;\n",
       "    }\n",
       "\n",
       "    .dataframe thead th {\n",
       "        text-align: right;\n",
       "    }\n",
       "</style>\n",
       "<table border=\"1\" class=\"dataframe\">\n",
       "  <thead>\n",
       "    <tr style=\"text-align: right;\">\n",
       "      <th></th>\n",
       "      <th>regionL</th>\n",
       "      <th>id</th>\n",
       "    </tr>\n",
       "    <tr>\n",
       "      <th>PatientID</th>\n",
       "      <th></th>\n",
       "      <th></th>\n",
       "    </tr>\n",
       "  </thead>\n",
       "  <tbody>\n",
       "    <tr>\n",
       "      <th>BraTS-MEN-RT-0002-1</th>\n",
       "      <td>Temporal_L</td>\n",
       "      <td>0002</td>\n",
       "    </tr>\n",
       "    <tr>\n",
       "      <th>BraTS-MEN-RT-0003-1</th>\n",
       "      <td>Temporal_R</td>\n",
       "      <td>0003</td>\n",
       "    </tr>\n",
       "    <tr>\n",
       "      <th>BraTS-MEN-RT-0006-1</th>\n",
       "      <td>Temporal_R</td>\n",
       "      <td>0006</td>\n",
       "    </tr>\n",
       "    <tr>\n",
       "      <th>BraTS-MEN-RT-0007-1</th>\n",
       "      <td>Temporal_R</td>\n",
       "      <td>0007</td>\n",
       "    </tr>\n",
       "    <tr>\n",
       "      <th>BraTS-MEN-RT-0009-1</th>\n",
       "      <td>Parietal</td>\n",
       "      <td>0009</td>\n",
       "    </tr>\n",
       "  </tbody>\n",
       "</table>\n",
       "</div>"
      ],
      "text/plain": [
       "                        regionL    id\n",
       "PatientID                            \n",
       "BraTS-MEN-RT-0002-1  Temporal_L  0002\n",
       "BraTS-MEN-RT-0003-1  Temporal_R  0003\n",
       "BraTS-MEN-RT-0006-1  Temporal_R  0006\n",
       "BraTS-MEN-RT-0007-1  Temporal_R  0007\n",
       "BraTS-MEN-RT-0009-1    Parietal  0009"
      ]
     },
     "execution_count": 33,
     "metadata": {},
     "output_type": "execute_result"
    }
   ],
   "source": [
    "tumorIdR1.head()"
   ]
  },
  {
   "cell_type": "code",
   "execution_count": 29,
   "id": "94298668",
   "metadata": {},
   "outputs": [
    {
     "data": {
      "text/plain": [
       "array(['Temporal_L', 'Temporal_R', 'Parietal', 'Frontal', 'Cerebellum_L',\n",
       "       'Cerebellum_R'], dtype=object)"
      ]
     },
     "execution_count": 29,
     "metadata": {},
     "output_type": "execute_result"
    }
   ],
   "source": [
    "tumorIdR1['regionL'].unique()"
   ]
  },
  {
   "cell_type": "code",
   "execution_count": 35,
   "id": "9d843cd7",
   "metadata": {},
   "outputs": [
    {
     "data": {
      "text/plain": [
       "regionL\n",
       "Parietal        142\n",
       "Temporal_R       99\n",
       "Temporal_L       79\n",
       "Frontal          40\n",
       "Cerebellum_L      1\n",
       "Cerebellum_R      1\n",
       "Name: count, dtype: int64"
      ]
     },
     "execution_count": 35,
     "metadata": {},
     "output_type": "execute_result"
    }
   ],
   "source": [
    "tumorIdR1['regionL'].value_counts()"
   ]
  },
  {
   "cell_type": "code",
   "execution_count": null,
   "id": "ba3c99e4",
   "metadata": {},
   "outputs": [],
   "source": []
  }
 ],
 "metadata": {
  "kernelspec": {
   "display_name": "Python 3",
   "language": "python",
   "name": "python3"
  },
  "language_info": {
   "codemirror_mode": {
    "name": "ipython",
    "version": 3
   },
   "file_extension": ".py",
   "mimetype": "text/x-python",
   "name": "python",
   "nbconvert_exporter": "python",
   "pygments_lexer": "ipython3",
   "version": "3.10.12"
  }
 },
 "nbformat": 4,
 "nbformat_minor": 5
}
