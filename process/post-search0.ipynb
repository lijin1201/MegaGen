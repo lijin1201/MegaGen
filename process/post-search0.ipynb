{
 "cells": [
  {
   "cell_type": "code",
   "execution_count": 16,
   "id": "eef07618",
   "metadata": {},
   "outputs": [],
   "source": [
    "#search for change in dice loss for single sample\n",
    "import pandas as pd\n",
    "import numpy as np\n",
    "import os\n",
    "from monai.metrics import compute_dice\n",
    "import glob\n",
    "import torch\n"
   ]
  },
  {
   "cell_type": "code",
   "execution_count": 7,
   "id": "cf614679",
   "metadata": {},
   "outputs": [],
   "source": [
    "dvolumeT = pd.read_csv('/workspaces/data/MegaGen/logs/SCORE/CSVS/id_test_volume.csv')\n",
    "dvolTS = dvolumeT[dvolumeT['volume'] <3000]"
   ]
  },
  {
   "cell_type": "code",
   "execution_count": 13,
   "id": "61613f50",
   "metadata": {},
   "outputs": [
    {
     "name": "stderr",
     "output_type": "stream",
     "text": [
      "/tmp/ipykernel_17996/802318403.py:1: SettingWithCopyWarning: \n",
      "A value is trying to be set on a copy of a slice from a DataFrame.\n",
      "Try using .loc[row_indexer,col_indexer] = value instead\n",
      "\n",
      "See the caveats in the documentation: https://pandas.pydata.org/pandas-docs/stable/user_guide/indexing.html#returning-a-view-versus-a-copy\n",
      "  dvolTS['id'] = dvolTS['id'].apply(lambda x: f'{int(x):04d}')\n"
     ]
    }
   ],
   "source": [
    "dvolTS['id'] = dvolTS['id'].apply(lambda x: f'{int(x):04d}')"
   ]
  },
  {
   "cell_type": "code",
   "execution_count": null,
   "id": "8928041c",
   "metadata": {},
   "outputs": [
    {
     "ename": "AttributeError",
     "evalue": "module 'os' has no attribute 'relpath'",
     "output_type": "error",
     "traceback": [
      "\u001b[0;31m---------------------------------------------------------------------------\u001b[0m",
      "\u001b[0;31mAttributeError\u001b[0m                            Traceback (most recent call last)",
      "Cell \u001b[0;32mIn[44], line 18\u001b[0m\n\u001b[1;32m     15\u001b[0m     d0\u001b[38;5;241m=\u001b[39m compute_dice(y_pred0, y)\u001b[38;5;241m.\u001b[39mitem()\n\u001b[1;32m     16\u001b[0m     d1\u001b[38;5;241m=\u001b[39m compute_dice(y_pred1, y)\u001b[38;5;241m.\u001b[39mitem()\n\u001b[1;32m     17\u001b[0m     dScore \u001b[38;5;241m=\u001b[39m pd\u001b[38;5;241m.\u001b[39mconcat([dScore, pd\u001b[38;5;241m.\u001b[39mDataFrame\n\u001b[0;32m---> 18\u001b[0m                         ([[\u001b[43mos\u001b[49m\u001b[38;5;241;43m.\u001b[39;49m\u001b[43mrelpath\u001b[49m(maskFile,os\u001b[38;5;241m.\u001b[39mpath\u001b[38;5;241m.\u001b[39mjoin(root,\u001b[38;5;124m'\u001b[39m\u001b[38;5;124mslice/s_test\u001b[39m\u001b[38;5;124m'\u001b[39m)), d0, d1]], \n\u001b[1;32m     19\u001b[0m                             columns\u001b[38;5;241m=\u001b[39m[\u001b[38;5;124m'\u001b[39m\u001b[38;5;124mmaskTfile\u001b[39m\u001b[38;5;124m'\u001b[39m, \u001b[38;5;124m'\u001b[39m\u001b[38;5;124md0\u001b[39m\u001b[38;5;124m'\u001b[39m,\u001b[38;5;124m'\u001b[39m\u001b[38;5;124md1\u001b[39m\u001b[38;5;124m'\u001b[39m])])\n\u001b[1;32m     21\u001b[0m \u001b[38;5;66;03m# probIFiles = glob.glob(f'/workspaces/data/brain_meningioma/oProb/unet1s/s_test/pt/BraTS-MEN-RT-{id}-2_slice_*.pt')\u001b[39;00m\n",
      "\u001b[0;31mAttributeError\u001b[0m: module 'os' has no attribute 'relpath'"
     ]
    }
   ],
   "source": [
    "root = '/workspaces/data/brain_meningioma'\n",
    "dScore = pd.DataFrame() # columns=['maskTfile', 'dscore'])\n",
    "for id in dvolTS['id']:\n",
    "    maskTfile = os.path.join('npy', f'BraTS-MEN-RT-{id}-1_slice_*_mask.npy')\n",
    "    # probTfile = os.path.join('pt', f'BraTS-MEN-RT-{id}-1_slice_*_mask.pt')\n",
    "    maskFiles = glob.glob(os.path.join(root, 'slice/s_test', maskTfile))\n",
    "    for maskFile in maskFiles:\n",
    "        probFile0 = os.path.relpath(maskFile, os.path.join(root, 'slice/test')).replace('npy', 'pt')\n",
    "        probFile0 = os.path.join(root, 'oProb/unet1s/s_test', probFile0)\n",
    "        y_pred0 = torch.load(probFile0,weights_only=False).unsqueeze(0).unsqueeze(0)>0.5\n",
    "        probFile1 = os.path.relpath(maskFile, os.path.join(root, 'slice/test')).replace('npy', 'pt')\n",
    "        probFile1 = os.path.join(root, 'oProb/unetpp0D/s_test', probFile1)\n",
    "        y_pred1 = torch.load(probFile1,weights_only=False).unsqueeze(0).unsqueeze(0)>0.5\n",
    "        y = torch.from_numpy(np.load(maskFile)).unsqueeze(0).unsqueeze(0).cuda(0)\n",
    "        d0= compute_dice(y_pred0, y).item()\n",
    "        d1= compute_dice(y_pred1, y).item()\n",
    "        dScore = pd.concat([dScore, pd.DataFrame\n",
    "                            ([[os.path.relpath(maskFile,os.path.join(root,'slice/s_test')), d0, d1]], \n",
    "                                columns=['maskTfile', 'd0','d1'])])\n",
    "    \n",
    "    # probIFiles = glob.glob(f'/workspaces/data/brain_meningioma/oProb/unet1s/s_test/pt/BraTS-MEN-RT-{id}-2_slice_*.pt')"
   ]
  },
  {
   "cell_type": "code",
   "execution_count": 38,
   "id": "ff4ff66f",
   "metadata": {},
   "outputs": [
    {
     "data": {
      "text/plain": [
       "'npy/BraTS-MEN-RT-0109-1_slice_*_mask.npy'"
      ]
     },
     "execution_count": 38,
     "metadata": {},
     "output_type": "execute_result"
    }
   ],
   "source": [
    "maskTfile"
   ]
  },
  {
   "cell_type": "code",
   "execution_count": 41,
   "id": "1be266fb",
   "metadata": {},
   "outputs": [],
   "source": [
    "dScore['dadd'] = dScore['d1'] - dScore['d0']"
   ]
  },
  {
   "cell_type": "code",
   "execution_count": 42,
   "id": "7f50fe8e",
   "metadata": {},
   "outputs": [
    {
     "data": {
      "text/html": [
       "<div>\n",
       "<style scoped>\n",
       "    .dataframe tbody tr th:only-of-type {\n",
       "        vertical-align: middle;\n",
       "    }\n",
       "\n",
       "    .dataframe tbody tr th {\n",
       "        vertical-align: top;\n",
       "    }\n",
       "\n",
       "    .dataframe thead th {\n",
       "        text-align: right;\n",
       "    }\n",
       "</style>\n",
       "<table border=\"1\" class=\"dataframe\">\n",
       "  <thead>\n",
       "    <tr style=\"text-align: right;\">\n",
       "      <th></th>\n",
       "      <th>maskTfile</th>\n",
       "      <th>d0</th>\n",
       "      <th>d1</th>\n",
       "      <th>dadd</th>\n",
       "    </tr>\n",
       "  </thead>\n",
       "  <tbody>\n",
       "    <tr>\n",
       "      <th>0</th>\n",
       "      <td>npy/BraTS-MEN-RT-0264-1_slice_*_mask.npy</td>\n",
       "      <td>0.000000</td>\n",
       "      <td>0.800000</td>\n",
       "      <td>0.800000</td>\n",
       "    </tr>\n",
       "    <tr>\n",
       "      <th>0</th>\n",
       "      <td>npy/BraTS-MEN-RT-0053-1_slice_*_mask.npy</td>\n",
       "      <td>0.000000</td>\n",
       "      <td>0.742857</td>\n",
       "      <td>0.742857</td>\n",
       "    </tr>\n",
       "    <tr>\n",
       "      <th>0</th>\n",
       "      <td>npy/BraTS-MEN-RT-0165-1_slice_*_mask.npy</td>\n",
       "      <td>0.000000</td>\n",
       "      <td>0.742358</td>\n",
       "      <td>0.742358</td>\n",
       "    </tr>\n",
       "    <tr>\n",
       "      <th>0</th>\n",
       "      <td>npy/BraTS-MEN-RT-0264-1_slice_*_mask.npy</td>\n",
       "      <td>0.102041</td>\n",
       "      <td>0.772727</td>\n",
       "      <td>0.670686</td>\n",
       "    </tr>\n",
       "    <tr>\n",
       "      <th>0</th>\n",
       "      <td>npy/BraTS-MEN-RT-0165-1_slice_*_mask.npy</td>\n",
       "      <td>0.190045</td>\n",
       "      <td>0.853755</td>\n",
       "      <td>0.663710</td>\n",
       "    </tr>\n",
       "  </tbody>\n",
       "</table>\n",
       "</div>"
      ],
      "text/plain": [
       "                                  maskTfile        d0        d1      dadd\n",
       "0  npy/BraTS-MEN-RT-0264-1_slice_*_mask.npy  0.000000  0.800000  0.800000\n",
       "0  npy/BraTS-MEN-RT-0053-1_slice_*_mask.npy  0.000000  0.742857  0.742857\n",
       "0  npy/BraTS-MEN-RT-0165-1_slice_*_mask.npy  0.000000  0.742358  0.742358\n",
       "0  npy/BraTS-MEN-RT-0264-1_slice_*_mask.npy  0.102041  0.772727  0.670686\n",
       "0  npy/BraTS-MEN-RT-0165-1_slice_*_mask.npy  0.190045  0.853755  0.663710"
      ]
     },
     "execution_count": 42,
     "metadata": {},
     "output_type": "execute_result"
    }
   ],
   "source": [
    "dScore.sort_values(by='dadd', ascending=False).head()"
   ]
  },
  {
   "cell_type": "code",
   "execution_count": null,
   "id": "d5b5dff0",
   "metadata": {},
   "outputs": [],
   "source": []
  }
 ],
 "metadata": {
  "kernelspec": {
   "display_name": "Python 3",
   "language": "python",
   "name": "python3"
  },
  "language_info": {
   "codemirror_mode": {
    "name": "ipython",
    "version": 3
   },
   "file_extension": ".py",
   "mimetype": "text/x-python",
   "name": "python",
   "nbconvert_exporter": "python",
   "pygments_lexer": "ipython3",
   "version": "3.10.12"
  }
 },
 "nbformat": 4,
 "nbformat_minor": 5
}
