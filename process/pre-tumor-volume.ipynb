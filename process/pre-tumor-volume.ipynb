{
 "cells": [
  {
   "cell_type": "code",
   "execution_count": 2,
   "id": "6a2f047c",
   "metadata": {},
   "outputs": [],
   "source": [
    "#get tumor's position dataframe\n",
    "import pandas as pd\n",
    "import numpy as np\n",
    "import os\n",
    "import json\n",
    "import glob\n",
    "# import SimpleITK as sitk\n",
    "import matplotlib.pyplot as plt\n",
    "import matplotlib.patches as patches"
   ]
  },
  {
   "cell_type": "code",
   "execution_count": 6,
   "id": "6482c091",
   "metadata": {},
   "outputs": [],
   "source": [
    "import sys\n",
    "sys.path.append('/workspaces/project/MegaGen')\n",
    "from utils.data_utils import get_loader\n",
    "from types import SimpleNamespace\n",
    "args = SimpleNamespace()\n",
    "args.data_dir = '/workspaces/data/brain_meningioma/slice'\n",
    "args.json_list = \"/workspaces/data/MegaGen/inputs/dataset_split_brats2.json\"\n",
    "args.fold = 0\n",
    "args.spatial_dims = 2\n",
    "args.roi_x = 160\n",
    "args.roi_y = 192\n",
    "args.test_mode = False\n",
    "args.out_base = 'unet1-bras2'\n",
    "args.distributed = False\n",
    "args.batch_size = 8\n",
    "args.workers = 8\n",
    "args.nbatch_val = 1\n",
    "args.shuffle=False"
   ]
  },
  {
   "cell_type": "code",
   "execution_count": 7,
   "id": "b959502f",
   "metadata": {},
   "outputs": [],
   "source": [
    "loader = get_loader(args)"
   ]
  },
  {
   "cell_type": "code",
   "execution_count": null,
   "id": "cc69234a",
   "metadata": {},
   "outputs": [],
   "source": [
    "df_train = pd.DataFrame(loader[0].dataset.data)\n",
    "df_valid = pd.DataFrame(loader[1].dataset.data)"
   ]
  },
  {
   "cell_type": "code",
   "execution_count": 27,
   "id": "2e2bee85",
   "metadata": {},
   "outputs": [],
   "source": [
    "df_train['id'] = df_train['label'].apply(lambda x: os.path.basename(x).split('-')[3])\n",
    "df_valid['id'] = df_valid['label'].apply(lambda x: os.path.basename(x).split('-')[3])"
   ]
  },
  {
   "cell_type": "code",
   "execution_count": 9,
   "id": "1c67198b",
   "metadata": {},
   "outputs": [],
   "source": [
    "def volume(names):\n",
    "    total = 0\n",
    "    for file in names:    \n",
    "        total += np.sum(np.load(file) > 0.5)\n",
    "    return total"
   ]
  },
  {
   "cell_type": "code",
   "execution_count": null,
   "id": "f77ac872",
   "metadata": {},
   "outputs": [],
   "source": [
    "\n",
    "df_volume= df_train.groupby('id').aggregate(volume = ('label', volume))\n",
    "df_volume = pd.concat([df_volume, df_valid.groupby('id').aggregate(volume = ('label', volume))], axis=0)"
   ]
  },
  {
   "cell_type": "code",
   "execution_count": 29,
   "id": "857ca57b",
   "metadata": {},
   "outputs": [
    {
     "data": {
      "text/plain": [
       "volume    445\n",
       "dtype: int64"
      ]
     },
     "execution_count": 29,
     "metadata": {},
     "output_type": "execute_result"
    }
   ],
   "source": [
    "df_volume.count()"
   ]
  },
  {
   "cell_type": "code",
   "execution_count": 1,
   "id": "c231f04f",
   "metadata": {},
   "outputs": [
    {
     "ename": "NameError",
     "evalue": "name 'df_volume' is not defined",
     "output_type": "error",
     "traceback": [
      "\u001b[0;31m---------------------------------------------------------------------------\u001b[0m",
      "\u001b[0;31mNameError\u001b[0m                                 Traceback (most recent call last)",
      "Cell \u001b[0;32mIn[1], line 1\u001b[0m\n\u001b[0;32m----> 1\u001b[0m \u001b[43mdf_volume\u001b[49m\n",
      "\u001b[0;31mNameError\u001b[0m: name 'df_volume' is not defined"
     ]
    }
   ],
   "source": [
    "df_volume"
   ]
  },
  {
   "cell_type": "code",
   "execution_count": 30,
   "id": "98bdead7",
   "metadata": {},
   "outputs": [
    {
     "name": "stdout",
     "output_type": "stream",
     "text": [
      "[ 3080. 13858.]\n"
     ]
    },
    {
     "data": {
      "image/png": "[encoded data removed]",
      "text/plain": [
       "<Figure size 640x480 with 1 Axes>"
      ]
     },
     "metadata": {},
     "output_type": "display_data"
    }
   ],
   "source": [
    "\n",
    "axes = plt.hist(df_volume['volume'], bins=50)\n",
    "ymin, ymax = plt.ylim()\n",
    "xmin, xmax = plt.xlim()\n",
    "adiv = np.quantile(df_volume['volume'], [1/3,2/3])\n",
    "print(adiv)\n",
    "\n",
    "rect1 = patches.Rectangle((xmin, ymin), adiv[0]-xmin, ymax-ymin, linewidth=1, edgecolor='none', facecolor='grey', alpha=0.3)\n",
    "rect2 = patches.Rectangle((adiv[0], ymin), adiv[1]-adiv[0], ymax-ymin, linewidth=1, edgecolor='none', facecolor='yellow', alpha=0.3)\n",
    "rect3 = patches.Rectangle((adiv[1], ymin), xmax-adiv[1], ymax-ymin, linewidth=1, edgecolor='none', facecolor='orange', alpha=0.3)\n",
    "# axes[0][0].add_patch(arrow1)\n",
    "# fig, ax = plt.subplots()\n",
    "plt.gca().add_patch(rect1)\n",
    "plt.gca().add_patch(rect2)\n",
    "plt.gca().add_patch(rect3)\n",
    "\n",
    "plt.xlabel('GTV Volume (mm^3)')\n",
    "plt.ylabel('Frequency')\n",
    "plt.title('Distribution of Mask Volume')\n",
    "plt.show()"
   ]
  },
  {
   "cell_type": "code",
   "execution_count": null,
   "id": "33d53913",
   "metadata": {},
   "outputs": [],
   "source": [
    "mask_sizes = [np.sum(np.load(d['label']) > 0.5) for d in loader[0].dataset.data]\n",
    "mask_sizes.extend([np.sum(np.load(d['label']) > 0.5) for d in loader[1].dataset.data])\n",
    "mask_sizes = np.array(mask_sizes)\n"
   ]
  },
  {
   "cell_type": "code",
   "execution_count": null,
   "id": "cb552c6e",
   "metadata": {},
   "outputs": [],
   "source": [
    "args.json_list = \"/workspaces/data/MegaGen/inputs/dataset_split_TV_brats2.json\"\n",
    "loaderTV = get_loader(args)\n",
    "df_test = pd.DataFrame(loaderTV[1].dataset.data)\n",
    "df_test['id'] = df_test['label'].apply(lambda x: os.path.basename(x).split('-')[3])\n",
    "\n",
    "dfT_volume= df_test.groupby('id').aggregate(volume = ('label', volume))"
   ]
  },
  {
   "cell_type": "code",
   "execution_count": 15,
   "id": "b50a72a8",
   "metadata": {},
   "outputs": [],
   "source": [
    "dfT_volume.sort_values('volume').to_csv('/workspaces/data/MegaGen/logs/SCORE/CSVS/id_test_volume.csv')"
   ]
  },
  {
   "cell_type": "code",
   "execution_count": 7,
   "id": "cbfea8ad",
   "metadata": {},
   "outputs": [
    {
     "data": {
      "text/html": [
       "<div>\n",
       "<style scoped>\n",
       "    .dataframe tbody tr th:only-of-type {\n",
       "        vertical-align: middle;\n",
       "    }\n",
       "\n",
       "    .dataframe tbody tr th {\n",
       "        vertical-align: top;\n",
       "    }\n",
       "\n",
       "    .dataframe thead th {\n",
       "        text-align: right;\n",
       "    }\n",
       "</style>\n",
       "<table border=\"1\" class=\"dataframe\">\n",
       "  <thead>\n",
       "    <tr style=\"text-align: right;\">\n",
       "      <th></th>\n",
       "      <th>PatientID</th>\n",
       "      <th>SliceIdx</th>\n",
       "      <th>Y</th>\n",
       "      <th>X</th>\n",
       "      <th>Region</th>\n",
       "      <th>MaskPath</th>\n",
       "      <th>IoU</th>\n",
       "      <th>PredY</th>\n",
       "      <th>PredX</th>\n",
       "    </tr>\n",
       "  </thead>\n",
       "  <tbody>\n",
       "    <tr>\n",
       "      <th>0</th>\n",
       "      <td>BraTS-MEN-RT-0002-1</td>\n",
       "      <td>123</td>\n",
       "      <td>85.676471</td>\n",
       "      <td>34.147059</td>\n",
       "      <td>Temporal_L</td>\n",
       "      <td>/Users/iujeong/0.local/4.slice/s_train/npy/Bra...</td>\n",
       "      <td>0.023555</td>\n",
       "      <td>55.072072</td>\n",
       "      <td>67.254505</td>\n",
       "    </tr>\n",
       "    <tr>\n",
       "      <th>1</th>\n",
       "      <td>BraTS-MEN-RT-0002-1</td>\n",
       "      <td>124</td>\n",
       "      <td>85.944444</td>\n",
       "      <td>34.481481</td>\n",
       "      <td>Temporal_L</td>\n",
       "      <td>/Users/iujeong/0.local/4.slice/s_train/npy/Bra...</td>\n",
       "      <td>0.039832</td>\n",
       "      <td>56.868778</td>\n",
       "      <td>66.821267</td>\n",
       "    </tr>\n",
       "    <tr>\n",
       "      <th>2</th>\n",
       "      <td>BraTS-MEN-RT-0002-1</td>\n",
       "      <td>125</td>\n",
       "      <td>85.944444</td>\n",
       "      <td>34.481481</td>\n",
       "      <td>Temporal_L</td>\n",
       "      <td>/Users/iujeong/0.local/4.slice/s_train/npy/Bra...</td>\n",
       "      <td>0.044750</td>\n",
       "      <td>62.226040</td>\n",
       "      <td>85.674503</td>\n",
       "    </tr>\n",
       "    <tr>\n",
       "      <th>3</th>\n",
       "      <td>BraTS-MEN-RT-0002-1</td>\n",
       "      <td>126</td>\n",
       "      <td>86.608247</td>\n",
       "      <td>35.041237</td>\n",
       "      <td>Temporal_L</td>\n",
       "      <td>/Users/iujeong/0.local/4.slice/s_train/npy/Bra...</td>\n",
       "      <td>0.063647</td>\n",
       "      <td>67.926166</td>\n",
       "      <td>90.937824</td>\n",
       "    </tr>\n",
       "    <tr>\n",
       "      <th>4</th>\n",
       "      <td>BraTS-MEN-RT-0002-1</td>\n",
       "      <td>127</td>\n",
       "      <td>86.503226</td>\n",
       "      <td>35.290323</td>\n",
       "      <td>Temporal_L</td>\n",
       "      <td>/Users/iujeong/0.local/4.slice/s_train/npy/Bra...</td>\n",
       "      <td>0.010453</td>\n",
       "      <td>67.327273</td>\n",
       "      <td>100.422378</td>\n",
       "    </tr>\n",
       "  </tbody>\n",
       "</table>\n",
       "</div>"
      ],
      "text/plain": [
       "             PatientID  SliceIdx          Y          X      Region  \\\n",
       "0  BraTS-MEN-RT-0002-1       123  85.676471  34.147059  Temporal_L   \n",
       "1  BraTS-MEN-RT-0002-1       124  85.944444  34.481481  Temporal_L   \n",
       "2  BraTS-MEN-RT-0002-1       125  85.944444  34.481481  Temporal_L   \n",
       "3  BraTS-MEN-RT-0002-1       126  86.608247  35.041237  Temporal_L   \n",
       "4  BraTS-MEN-RT-0002-1       127  86.503226  35.290323  Temporal_L   \n",
       "\n",
       "                                            MaskPath       IoU      PredY  \\\n",
       "0  /Users/iujeong/0.local/4.slice/s_train/npy/Bra...  0.023555  55.072072   \n",
       "1  /Users/iujeong/0.local/4.slice/s_train/npy/Bra...  0.039832  56.868778   \n",
       "2  /Users/iujeong/0.local/4.slice/s_train/npy/Bra...  0.044750  62.226040   \n",
       "3  /Users/iujeong/0.local/4.slice/s_train/npy/Bra...  0.063647  67.926166   \n",
       "4  /Users/iujeong/0.local/4.slice/s_train/npy/Bra...  0.010453  67.327273   \n",
       "\n",
       "        PredX  \n",
       "0   67.254505  \n",
       "1   66.821267  \n",
       "2   85.674503  \n",
       "3   90.937824  \n",
       "4  100.422378  "
      ]
     },
     "execution_count": 7,
     "metadata": {},
     "output_type": "execute_result"
    }
   ],
   "source": [
    "tumord.describe()\n",
    "tumord.head()"
   ]
  },
  {
   "cell_type": "code",
   "execution_count": null,
   "id": "ba3c99e4",
   "metadata": {},
   "outputs": [],
   "source": []
  }
 ],
 "metadata": {
  "kernelspec": {
   "display_name": "Python 3",
   "language": "python",
   "name": "python3"
  },
  "language_info": {
   "codemirror_mode": {
    "name": "ipython",
    "version": 3
   },
   "file_extension": ".py",
   "mimetype": "text/x-python",
   "name": "python",
   "nbconvert_exporter": "python",
   "pygments_lexer": "ipython3",
   "version": "3.10.12"
  }
 },
 "nbformat": 4,
 "nbformat_minor": 5
}
