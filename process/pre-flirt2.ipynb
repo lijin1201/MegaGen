{
 "cells": [
  {
   "cell_type": "code",
   "execution_count": 1,
   "id": "10445e31",
   "metadata": {},
   "outputs": [],
   "source": [
    "# use flirt to do linear transformation\n",
    "import os\n",
    "from nipype.interfaces.fsl import FLIRT\n",
    "from nipype.interfaces.fsl import ApplyXFM\n",
    "import nibabel as nib\n",
    "import nilearn.datasets\n",
    "from nibabel.affines import apply_affine\n",
    "import glob\n",
    "import numpy as np\n",
    "import pandas as pd\n",
    "from nilearn.image import resample_to_img\n"
   ]
  },
  {
   "cell_type": "code",
   "execution_count": 47,
   "id": "e9a59c68",
   "metadata": {},
   "outputs": [
    {
     "data": {
      "text/html": [
       "<pre style=\"white-space:pre;overflow-x:auto;line-height:normal;font-family:Menlo,'DejaVu Sans Mono',consolas,'Courier New',monospace\"><span style=\"color: #000080; text-decoration-color: #000080; font-weight: bold\">[</span><span style=\"color: #000080; text-decoration-color: #000080\">fetch_atlas_harvard_oxford</span><span style=\"color: #000080; text-decoration-color: #000080; font-weight: bold\">]</span> Dataset found in <span style=\"color: #800080; text-decoration-color: #800080\">/home/vscode/nilearn_data/</span><span style=\"color: #ff00ff; text-decoration-color: #ff00ff\">fsl</span>\n",
       "</pre>\n"
      ],
      "text/plain": [
       "\u001b[1;34m[\u001b[0m\u001b[34mfetch_atlas_harvard_oxford\u001b[0m\u001b[1;34m]\u001b[0m Dataset found in \u001b[35m/home/vscode/nilearn_data/\u001b[0m\u001b[95mfsl\u001b[0m\n"
      ]
     },
     "metadata": {},
     "output_type": "display_data"
    }
   ],
   "source": [
    "atlas = nilearn.datasets.fetch_atlas_harvard_oxford('cort-maxprob-thr25-1mm')\n",
    "atlas_img = nib.load(atlas['filename'])\n",
    "atlas_data = atlas_img.get_fdata()\n",
    "\n",
    "lobe_mapping = {\n",
    "    'Frontal Pole': 'Frontal',\n",
    "    'Insular Cortex': 'Insula',\n",
    "    'Superior Frontal Gyrus': 'Frontal',\n",
    "    'Middle Frontal Gyrus': 'Frontal',\n",
    "    'Inferior Frontal Gyrus, pars opercularis': 'Frontal',\n",
    "    'Inferior Frontal Gyrus, pars triangularis': 'Frontal',\n",
    "    'Inferior Frontal Gyrus, pars orbitalis': 'Frontal',\n",
    "    'Precentral Gyrus': 'Frontal',\n",
    "    'Temporal Pole': 'Temporal',\n",
    "    'Superior Temporal Gyrus, anterior division': 'Temporal',\n",
    "    'Superior Temporal Gyrus, posterior division': 'Temporal',\n",
    "    'Middle Temporal Gyrus, anterior division': 'Temporal',\n",
    "    'Middle Temporal Gyrus, posterior division': 'Temporal',\n",
    "    'Middle Temporal Gyrus, temporooccipital part': 'Temporal',\n",
    "    'Inferior Temporal Gyrus, anterior division': 'Temporal',\n",
    "    'Inferior Temporal Gyrus, posterior division': 'Temporal',\n",
    "    'Inferior Temporal Gyrus, temporooccipital part': 'Temporal',\n",
    "    'Postcentral Gyrus': 'Parietal',\n",
    "    'Superior Parietal Lobule': 'Parietal',\n",
    "    'Supramarginal Gyrus, anterior division': 'Parietal',\n",
    "    'Supramarginal Gyrus, posterior division': 'Parietal',\n",
    "    'Angular Gyrus': 'Parietal',\n",
    "    'Lateral Occipital Cortex, superior division': 'Occipital',\n",
    "    'Lateral Occipital Cortex, inferior division': 'Occipital',\n",
    "    'Intracalcarine Cortex': 'Occipital',\n",
    "    'Frontal Medial Cortex': 'Frontal',\n",
    "    'Juxtapositional Lobule Cortex (formerly Supplementary Motor Cortex)': 'Frontal',\n",
    "    'Subcallosal Cortex': 'Frontal',\n",
    "    'Paracingulate Gyrus': 'Frontal',\n",
    "    'Cingulate Gyrus, anterior division': 'Frontal',\n",
    "    'Cingulate Gyrus, posterior division': 'Parietal',\n",
    "    'Precuneus Cortex': 'Parietal',\n",
    "    'Cuneal Cortex': 'Occipital',\n",
    "    'Frontal Orbital Cortex': 'Frontal',\n",
    "    'Parahippocampal Gyrus, anterior division': 'Temporal',\n",
    "    'Parahippocampal Gyrus, posterior division': 'Temporal',\n",
    "    'Supracalcarine Cortex': 'Occipital',\n",
    "    'Occipital Pole': 'Occipital',\n",
    "    'Planum Temporale': 'Temporal',\n",
    "    'Planum Polare': 'Temporal',\n",
    "    'Heschl’s Gyrus (includes H1 and H2)': 'Temporal',\n",
    "    'Temporal Fusiform Cortex, anterior division': 'Temporal',\n",
    "    'Temporal Fusiform Cortex, posterior division': 'Temporal',\n",
    "    'Temporal Occipital Fusiform Cortex': 'Temporal',\n",
    "    'Occipital Fusiform Gyrus': 'Occipital',\n",
    "    'Frontal Operculum Cortex': 'Frontal',\n",
    "    'Central Operculum Cortex': 'Frontal',\n",
    "    'Parietal Operculum Cortex': 'Parietal',\n",
    "    'Lateral Occipital Cortex, superior division': 'Occipital',\n",
    "    'Lateral Occipital Cortex, inferior division': 'Occipital',\n",
    "    'Insular Cortex': 'Insula',\n",
    "    'Frontal Opercular Cortex': 'Frontal',\n",
    "    'Parietal Opercular Cortex': 'Parietal',\n",
    "    'Central Opercular Cortex': 'Frontal',\n",
    "    'Lingual Gyrus': 'Occipital',\n",
    "    'Precuneous Cortex': 'Parietal',\n",
    "}\n"
   ]
  },
  {
   "cell_type": "code",
   "execution_count": 48,
   "id": "a16a74d9",
   "metadata": {},
   "outputs": [
    {
     "data": {
      "text/plain": [
       "53"
      ]
     },
     "execution_count": 48,
     "metadata": {},
     "output_type": "execute_result"
    }
   ],
   "source": [
    "len(lobe_mapping)"
   ]
  },
  {
   "cell_type": "code",
   "execution_count": 49,
   "id": "7611522a",
   "metadata": {},
   "outputs": [],
   "source": [
    "def get_lobe_from_mni_coords(x, y, z, atlas_img, atlas_labels, lobe_mapping):\n",
    "    atlas_data = atlas_img.get_fdata()\n",
    "    # Map MNI to voxel index (affine is world-to-index)\n",
    "    ijk = np.round(\n",
    "        np.linalg.inv(atlas_img.affine).dot([x, y, z, 1])\n",
    "    )[:3].astype(int)\n",
    "\n",
    "    shape = atlas_data.shape\n",
    "    if not all(0 <= idx < dim for idx, dim in zip(ijk, shape)):\n",
    "        found_label = False\n",
    "    else:\n",
    "        label_val = int(atlas_data[tuple(ijk)])\n",
    "        found_label = label_val != 0\n",
    "\n",
    "    if found_label:\n",
    "        region_name = atlas_labels[label_val - 1]\n",
    "        lobe = lobe_mapping.get(region_name, None)\n",
    "        return lobe, region_name, tuple(ijk)\n",
    "\n",
    "    # If centroid voxel is background, find nearest labeled voxel\n",
    "    labeled_voxels = np.array(np.where(atlas_data != 0)).T\n",
    "    if labeled_voxels.size == 0:\n",
    "        return None, None, None  # All atlas voxels are background\n",
    "\n",
    "    # Compute distances in voxel space\n",
    "    dists = np.sum((labeled_voxels - ijk)**2, axis=1)\n",
    "    min_idx = np.argmin(dists)\n",
    "    nearest_voxel = labeled_voxels[min_idx]\n",
    "    label_val = int(atlas_data[tuple(nearest_voxel)])\n",
    "    region_name = atlas_labels[label_val - 1]\n",
    "    lobe = lobe_mapping.get(region_name, None)\n",
    "    return lobe, region_name, tuple(nearest_voxel)\n"
   ]
  },
  {
   "cell_type": "code",
   "execution_count": 50,
   "id": "65853d7f",
   "metadata": {},
   "outputs": [
    {
     "name": "stdout",
     "output_type": "stream",
     "text": [
      "1: /workspaces/data/brain_meningioma/bet/b_test_mni/BraTS-MEN-RT-0011-1_t1c_gtv_mask.nii.gz\n",
      "centroid:  12.841367221735325 -13.331288343558285 -36.303242769500436\n",
      "2: /workspaces/data/brain_meningioma/bet/b_test_mni/BraTS-MEN-RT-0020-1_t1c_gtv_mask.nii.gz\n",
      "centroid:  -4.115241635687738 9.985130111524171 -25.245353159851298\n",
      "3: /workspaces/data/brain_meningioma/bet/b_test_mni/BraTS-MEN-RT-0022-1_t1c_gtv_mask.nii.gz\n",
      "centroid:  -29.829046898638424 61.84266263237518 22.29954614220877\n",
      "4: /workspaces/data/brain_meningioma/bet/b_test_mni/BraTS-MEN-RT-0041-1_t1c_gtv_mask.nii.gz\n",
      "centroid:  -23.501955207963036 -79.37575542125845 -23.61429079274796\n",
      "5: /workspaces/data/brain_meningioma/bet/b_test_mni/BraTS-MEN-RT-0045-1_t1c_gtv_mask.nii.gz\n",
      "centroid:  13.070416095107447 -20.49748513946045 -27.406492912665755\n",
      "6: /workspaces/data/brain_meningioma/bet/b_test_mni/BraTS-MEN-RT-0053-1_t1c_gtv_mask.nii.gz\n",
      "centroid:  -4.787258815701932 71.5705256154358 28.11194278110446\n",
      "7: /workspaces/data/brain_meningioma/bet/b_test_mni/BraTS-MEN-RT-0068-1_t1c_gtv_mask.nii.gz\n",
      "centroid:  5.591988607011714 -27.76017480418301 14.899110620889942\n",
      "8: /workspaces/data/brain_meningioma/bet/b_test_mni/BraTS-MEN-RT-0075-1_t1c_gtv_mask.nii.gz\n",
      "centroid:  11.854270528614393 49.85612459313583 5.9096040542210915\n",
      "9: /workspaces/data/brain_meningioma/bet/b_test_mni/BraTS-MEN-RT-0086-1_t1c_gtv_mask.nii.gz\n",
      "centroid:  -24.660676697591015 19.13779527559055 -41.24678412723162\n",
      "10: /workspaces/data/brain_meningioma/bet/b_test_mni/BraTS-MEN-RT-0087-1_t1c_gtv_mask.nii.gz\n",
      "centroid:  -31.61412639405205 -65.73457249070631 62.80817843866171\n",
      "11: /workspaces/data/brain_meningioma/bet/b_test_mni/BraTS-MEN-RT-0092-1_t1c_gtv_mask.nii.gz\n",
      "centroid:  -21.706892655367227 9.957514124293795 -43.544858757062144\n",
      "12: /workspaces/data/brain_meningioma/bet/b_test_mni/BraTS-MEN-RT-0109-1_t1c_gtv_mask.nii.gz\n",
      "centroid:  15.039236479321318 17.389301284317185 -34.55084246494639\n",
      "13: /workspaces/data/brain_meningioma/bet/b_test_mni/BraTS-MEN-RT-0145-1_t1c_gtv_mask.nii.gz\n",
      "centroid:  11.462222323275967 -53.7401832609536 54.110524999431576\n",
      "14: /workspaces/data/brain_meningioma/bet/b_test_mni/BraTS-MEN-RT-0163-1_t1c_gtv_mask.nii.gz\n",
      "centroid:  -0.7149849397590344 -3.7801204819277245 51.66302710843374\n",
      "15: /workspaces/data/brain_meningioma/bet/b_test_mni/BraTS-MEN-RT-0164-1_t1c_gtv_mask.nii.gz\n",
      "centroid:  4.15035830618892 -20.274006514657984 62.84768729641695\n",
      "16: /workspaces/data/brain_meningioma/bet/b_test_mni/BraTS-MEN-RT-0165-1_t1c_gtv_mask.nii.gz\n",
      "centroid:  -24.42248432685156 19.062480076506205 -36.19413452343003\n",
      "17: /workspaces/data/brain_meningioma/bet/b_test_mni/BraTS-MEN-RT-0201-1_t1c_gtv_mask.nii.gz\n",
      "centroid:  57.26295947219603 18.19604147031103 -4.9283694627709735\n",
      "18: /workspaces/data/brain_meningioma/bet/b_test_mni/BraTS-MEN-RT-0214-1_t1c_gtv_mask.nii.gz\n",
      "centroid:  4.392846729516961 12.239479055301786 -25.072504616580815\n",
      "19: /workspaces/data/brain_meningioma/bet/b_test_mni/BraTS-MEN-RT-0219-1_t1c_gtv_mask.nii.gz\n",
      "centroid:  -15.778446358828703 16.953730869134603 39.624371648010765\n",
      "20: /workspaces/data/brain_meningioma/bet/b_test_mni/BraTS-MEN-RT-0233-1_t1c_gtv_mask.nii.gz\n",
      "centroid:  50.494161032575306 27.61954517516901 -6.294406883835279\n",
      "21: /workspaces/data/brain_meningioma/bet/b_test_mni/BraTS-MEN-RT-0237-1_t1c_gtv_mask.nii.gz\n",
      "centroid:  21.77777777777777 14.345062608971318 -19.214297035980344\n",
      "22: /workspaces/data/brain_meningioma/bet/b_test_mni/BraTS-MEN-RT-0238-1_t1c_gtv_mask.nii.gz\n",
      "centroid:  17.11707035755478 16.113610149942332 -26.58477508650519\n",
      "23: /workspaces/data/brain_meningioma/bet/b_test_mni/BraTS-MEN-RT-0246-1_t1c_gtv_mask.nii.gz\n",
      "centroid:  -27.53526970954357 67.70331950207469 0.8257261410788317\n",
      "24: /workspaces/data/brain_meningioma/bet/b_test_mni/BraTS-MEN-RT-0256-1_t1c_gtv_mask.nii.gz\n",
      "centroid:  0.5852601156069426 23.58236994219652 43.85260115606937\n",
      "25: /workspaces/data/brain_meningioma/bet/b_test_mni/BraTS-MEN-RT-0262-1_t1c_gtv_mask.nii.gz\n",
      "centroid:  8.482840645322185 -13.234974774118058 65.94571160006905\n",
      "26: /workspaces/data/brain_meningioma/bet/b_test_mni/BraTS-MEN-RT-0264-1_t1c_gtv_mask.nii.gz\n",
      "centroid:  38.695540308747866 26.290737564322484 -33.00514579759863\n",
      "27: /workspaces/data/brain_meningioma/bet/b_test_mni/BraTS-MEN-RT-0287-1_t1c_gtv_mask.nii.gz\n",
      "centroid:  -16.159585219922377 35.40420844113842 -4.448273771021988\n",
      "28: /workspaces/data/brain_meningioma/bet/b_test_mni/BraTS-MEN-RT-0288-1_t1c_gtv_mask.nii.gz\n",
      "centroid:  14.976313928823942 50.00956196761052 2.6577219622234907\n",
      "29: /workspaces/data/brain_meningioma/bet/b_test_mni/BraTS-MEN-RT-0304-1_t1c_gtv_mask.nii.gz\n",
      "centroid:  11.770538230644092 28.344953371674734 18.753839103636324\n",
      "30: /workspaces/data/brain_meningioma/bet/b_test_mni/BraTS-MEN-RT-0320-1_t1c_gtv_mask.nii.gz\n",
      "centroid:  -1.6879756468797495 21.255200405885347 38.829528158295275\n",
      "31: /workspaces/data/brain_meningioma/bet/b_test_mni/BraTS-MEN-RT-0323-1_t1c_gtv_mask.nii.gz\n",
      "centroid:  -19.604705882352945 -14.014117647058825 -29.215294117647062\n",
      "32: /workspaces/data/brain_meningioma/bet/b_test_mni/BraTS-MEN-RT-0327-1_t1c_gtv_mask.nii.gz\n",
      "centroid:  -34.44808527437821 -71.91946308724832 45.439992104224245\n",
      "33: /workspaces/data/brain_meningioma/bet/b_test_mni/BraTS-MEN-RT-0349-1_t1c_gtv_mask.nii.gz\n",
      "centroid:  16.99531322199485 -10.212951349924083 -24.409465971351246\n",
      "34: /workspaces/data/brain_meningioma/bet/b_test_mni/BraTS-MEN-RT-0367-1_t1c_gtv_mask.nii.gz\n",
      "centroid:  -7.389446970498042 -40.36528497409327 71.94083747488634\n",
      "35: /workspaces/data/brain_meningioma/bet/b_test_mni/BraTS-MEN-RT-0371-1_t1c_gtv_mask.nii.gz\n",
      "centroid:  38.372398523985254 -14.576088560885609 24.77350553505535\n",
      "36: /workspaces/data/brain_meningioma/bet/b_test_mni/BraTS-MEN-RT-0385-1_t1c_gtv_mask.nii.gz\n",
      "centroid:  18.72629565021664 18.018035000844066 -13.022789938664118\n",
      "37: /workspaces/data/brain_meningioma/bet/b_test_mni/BraTS-MEN-RT-0398-1_t1c_gtv_mask.nii.gz\n",
      "centroid:  21.612527541706015 0.25118035882908885 58.09977966635191\n",
      "38: /workspaces/data/brain_meningioma/bet/b_test_mni/BraTS-MEN-RT-0403-1_t1c_gtv_mask.nii.gz\n",
      "centroid:  24.1043105873527 -30.182066831296297 59.07016035760057\n",
      "39: /workspaces/data/brain_meningioma/bet/b_test_mni/BraTS-MEN-RT-0416-1_t1c_gtv_mask.nii.gz\n",
      "centroid:  -14.536100453435651 -8.556330659225665 -33.897628182769445\n",
      "40: /workspaces/data/brain_meningioma/bet/b_test_mni/BraTS-MEN-RT-0501-1_t1c_gtv_mask.nii.gz\n",
      "centroid:  -9.683233617562536 -66.61916427191784 48.94815565082206\n",
      "41: /workspaces/data/brain_meningioma/bet/b_test_mni/BraTS-MEN-RT-0502-1_t1c_gtv_mask.nii.gz\n",
      "centroid:  -38.623648978794094 22.788722759699027 18.559523111502003\n",
      "42: /workspaces/data/brain_meningioma/bet/b_test_mni/BraTS-MEN-RT-0514-1_t1c_gtv_mask.nii.gz\n",
      "centroid:  -16.907451710083294 -37.237063618642566 -33.13866737550948\n",
      "43: /workspaces/data/brain_meningioma/bet/b_test_mni/BraTS-MEN-RT-0523-1_t1c_gtv_mask.nii.gz\n",
      "centroid:  3.5023762785411776 12.683989392843614 61.88661018700279\n",
      "44: /workspaces/data/brain_meningioma/bet/b_test_mni/BraTS-MEN-RT-0529-1_t1c_gtv_mask.nii.gz\n",
      "centroid:  33.05498168325394 -56.68053393707844 -34.312438092542806\n",
      "45: /workspaces/data/brain_meningioma/bet/b_test_mni/BraTS-MEN-RT-0568-1_t1c_gtv_mask.nii.gz\n",
      "centroid:  -18.672857608341474 3.455848810687513 -28.970348647768006\n",
      "46: /workspaces/data/brain_meningioma/bet/b_test_mni/BraTS-MEN-RT-0575-1_t1c_gtv_mask.nii.gz\n",
      "centroid:  17.75559061599671 -11.647242420085064 30.723418850322403\n",
      "47: /workspaces/data/brain_meningioma/bet/b_test_mni/BraTS-MEN-RT-0577-1_t1c_gtv_mask.nii.gz\n",
      "centroid:  -39.215212798068215 4.360355310249673 -32.20266482687249\n",
      "48: /workspaces/data/brain_meningioma/bet/b_test_mni/BraTS-MEN-RT-0581-1_t1c_gtv_mask.nii.gz\n",
      "centroid:  48.32213768788273 -56.03507144182595 -36.47763963629616\n",
      "49: /workspaces/data/brain_meningioma/bet/b_test_mni/BraTS-MEN-RT-0592-1_t1c_gtv_mask.nii.gz\n",
      "centroid:  -16.599794699023505 -71.36446187455584 36.35961887716158\n",
      "50: /workspaces/data/brain_meningioma/bet/b_test_mni/BraTS-MEN-RT-0610-1_t1c_gtv_mask.nii.gz\n",
      "centroid:  -39.90669527609213 0.14682446552899364 -21.2628826231267\n"
     ]
    }
   ],
   "source": [
    "data_root = '/workspaces/data/brain_meningioma/bet'\n",
    "cat = 'test'\n",
    "\n",
    "mask_paths = sorted(glob.glob(f'{data_root}/b_{cat}_mni/*_gtv_mask.nii.gz*'))\n",
    "list = []\n",
    "for i, maskpath in enumerate(mask_paths):\n",
    "    id = os.path.split(maskpath)[-1].split('-')[3]\n",
    "    # if id!='0041':\n",
    "    #     continue\n",
    "    # if i> 9:\n",
    "    #     break\n",
    "    print(f'{i+1}: {maskpath}')\n",
    "    mask_img = nib.load(maskpath)\n",
    "    mask_data = mask_img.get_fdata() > 0.5\n",
    "    coords = np.argwhere(mask_data > 0)\n",
    "    centroid_voxel = coords.mean(axis=0)\n",
    "    centroid_mni = apply_affine(mask_img.affine, centroid_voxel)\n",
    "    x, y, z = centroid_mni\n",
    "    print(\"centroid: \", x, y, z)\n",
    "    \n",
    "    # make_mni(maskpath)\n",
    "    list.append([os.path.split(maskpath)[-1].split('-')[3], \n",
    "                 *get_lobe_from_mni_coords(x, y, z, atlas_img, atlas['labels'], lobe_mapping)])"
   ]
  },
  {
   "cell_type": "code",
   "execution_count": 51,
   "id": "442bbaa7",
   "metadata": {},
   "outputs": [
    {
     "data": {
      "text/plain": [
       "lobe\n",
       "Frontal      29\n",
       "Temporal      6\n",
       "Parietal      6\n",
       "Occipital     4\n",
       "Insula        2\n",
       "Name: count, dtype: int64"
      ]
     },
     "execution_count": 51,
     "metadata": {},
     "output_type": "execute_result"
    }
   ],
   "source": [
    "dfRegion = pd.DataFrame(list,columns=['id', 'lobe', 'regionname', 'coords'])\n",
    "dfRegion['lobe'].value_counts()"
   ]
  },
  {
   "cell_type": "code",
   "execution_count": 52,
   "id": "6f1a7aba",
   "metadata": {},
   "outputs": [
    {
     "name": "stdout",
     "output_type": "stream",
     "text": [
      "1: /workspaces/data/brain_meningioma/bet/b_val_mni/BraTS-MEN-RT-0028-1_t1c_gtv_mask.nii.gz\n"
     ]
    },
    {
     "name": "stdout",
     "output_type": "stream",
     "text": [
      "centroid:  29.72801302931596 -38.739413680781766 -32.545602605863195\n",
      "2: /workspaces/data/brain_meningioma/bet/b_val_mni/BraTS-MEN-RT-0090-1_t1c_gtv_mask.nii.gz\n",
      "centroid:  -3.549474319633788 38.317873132451325 -15.223451883897582\n",
      "3: /workspaces/data/brain_meningioma/bet/b_val_mni/BraTS-MEN-RT-0100-1_t1c_gtv_mask.nii.gz\n",
      "centroid:  -5.669608189198726 -60.82809742322627 48.41016590187081\n",
      "4: /workspaces/data/brain_meningioma/bet/b_val_mni/BraTS-MEN-RT-0135-1_t1c_gtv_mask.nii.gz\n",
      "centroid:  12.369440632819433 1.1625635644523413 -30.584147227379127\n",
      "5: /workspaces/data/brain_meningioma/bet/b_val_mni/BraTS-MEN-RT-0152-1_t1c_gtv_mask.nii.gz\n",
      "centroid:  -8.358899723475474 -36.07247853296464 74.53558433997964\n",
      "6: /workspaces/data/brain_meningioma/bet/b_val_mni/BraTS-MEN-RT-0170-1_t1c_gtv_mask.nii.gz\n",
      "centroid:  43.307134220072555 -69.89298669891173 -20.19528415961306\n",
      "7: /workspaces/data/brain_meningioma/bet/b_val_mni/BraTS-MEN-RT-0172-1_t1c_gtv_mask.nii.gz\n",
      "centroid:  62.698098256735335 -28.43383518225039 19.54952456418384\n",
      "8: /workspaces/data/brain_meningioma/bet/b_val_mni/BraTS-MEN-RT-0186-1_t1c_gtv_mask.nii.gz\n",
      "centroid:  -20.740574195780013 -8.47100196010608 -35.87178600253661\n",
      "9: /workspaces/data/brain_meningioma/bet/b_val_mni/BraTS-MEN-RT-0187-1_t1c_gtv_mask.nii.gz\n",
      "centroid:  22.246166847760477 9.441289387902941 47.68282023421466\n",
      "10: /workspaces/data/brain_meningioma/bet/b_val_mni/BraTS-MEN-RT-0194-1_t1c_gtv_mask.nii.gz\n",
      "centroid:  -11.257957957957956 17.109159159159162 58.38708708708708\n",
      "11: /workspaces/data/brain_meningioma/bet/b_val_mni/BraTS-MEN-RT-0195-1_t1c_gtv_mask.nii.gz\n",
      "centroid:  -12.231488175152336 38.527161003821135 39.21635856655995\n",
      "12: /workspaces/data/brain_meningioma/bet/b_val_mni/BraTS-MEN-RT-0231-1_t1c_gtv_mask.nii.gz\n",
      "centroid:  31.18994808872108 -68.50268136771204 -30.769187867347377\n",
      "13: /workspaces/data/brain_meningioma/bet/b_val_mni/BraTS-MEN-RT-0242-1_t1c_gtv_mask.nii.gz\n",
      "centroid:  28.387988728425498 -88.40049313138428 25.750792532581897\n",
      "14: /workspaces/data/brain_meningioma/bet/b_val_mni/BraTS-MEN-RT-0245-1_t1c_gtv_mask.nii.gz\n",
      "centroid:  61.5651797314855 12.456474664356875 7.386747509744481\n",
      "15: /workspaces/data/brain_meningioma/bet/b_val_mni/BraTS-MEN-RT-0254-1_t1c_gtv_mask.nii.gz\n",
      "centroid:  12.125513634665666 -47.84385506163616 -66.26036608143444\n",
      "16: /workspaces/data/brain_meningioma/bet/b_val_mni/BraTS-MEN-RT-0261-1_t1c_gtv_mask.nii.gz\n",
      "centroid:  32.49772799323682 11.144166754728957 -24.34146148155976\n",
      "17: /workspaces/data/brain_meningioma/bet/b_val_mni/BraTS-MEN-RT-0267-1_t1c_gtv_mask.nii.gz\n",
      "centroid:  -27.92934821238184 54.35922951169238 23.94043642049897\n",
      "18: /workspaces/data/brain_meningioma/bet/b_val_mni/BraTS-MEN-RT-0291-1_t1c_gtv_mask.nii.gz\n",
      "centroid:  26.502307976366325 3.8821547267355925 -18.76620199409158\n",
      "19: /workspaces/data/brain_meningioma/bet/b_val_mni/BraTS-MEN-RT-0296-1_t1c_gtv_mask.nii.gz\n",
      "centroid:  -3.1690751445086676 -44.05455202312139 77.92088150289018\n",
      "20: /workspaces/data/brain_meningioma/bet/b_val_mni/BraTS-MEN-RT-0334-1_t1c_gtv_mask.nii.gz\n",
      "centroid:  -19.728584220475568 -15.402099293602632 -37.340214903989654\n",
      "21: /workspaces/data/brain_meningioma/bet/b_val_mni/BraTS-MEN-RT-0337-1_t1c_gtv_mask.nii.gz\n",
      "centroid:  -13.551288404360747 27.188800792864214 -22.73116947472745\n",
      "22: /workspaces/data/brain_meningioma/bet/b_val_mni/BraTS-MEN-RT-0343-1_t1c_gtv_mask.nii.gz\n",
      "centroid:  14.658557918802828 -5.98061867812109 -27.782267562699182\n",
      "23: /workspaces/data/brain_meningioma/bet/b_val_mni/BraTS-MEN-RT-0348-1_t1c_gtv_mask.nii.gz\n",
      "centroid:  39.685937191033446 -4.761221664958924 -28.849323194736556\n",
      "24: /workspaces/data/brain_meningioma/bet/b_val_mni/BraTS-MEN-RT-0364-1_t1c_gtv_mask.nii.gz\n",
      "centroid:  10.968044189591723 31.02324928721322 20.492425643740546\n",
      "25: /workspaces/data/brain_meningioma/bet/b_val_mni/BraTS-MEN-RT-0376-1_t1c_gtv_mask.nii.gz\n",
      "centroid:  41.102908277404936 -61.32885906040268 -21.041387024608504\n",
      "26: /workspaces/data/brain_meningioma/bet/b_val_mni/BraTS-MEN-RT-0396-1_t1c_gtv_mask.nii.gz\n",
      "centroid:  -38.42755324143229 16.842388289018828 -30.4727924544407\n",
      "27: /workspaces/data/brain_meningioma/bet/b_val_mni/BraTS-MEN-RT-0404-1_t1c_gtv_mask.nii.gz\n",
      "centroid:  2.699074074074076 -79.94984567901236 29.131944444444443\n",
      "28: /workspaces/data/brain_meningioma/bet/b_val_mni/BraTS-MEN-RT-0417-1_t1c_gtv_mask.nii.gz\n",
      "centroid:  33.85519508360727 -9.85442332428184 -27.606059739888522\n",
      "29: /workspaces/data/brain_meningioma/bet/b_val_mni/BraTS-MEN-RT-0428-1_t1c_gtv_mask.nii.gz\n",
      "centroid:  -38.66139109780027 -45.51543942992875 49.43220076422597\n",
      "30: /workspaces/data/brain_meningioma/bet/b_val_mni/BraTS-MEN-RT-0435-1_t1c_gtv_mask.nii.gz\n",
      "centroid:  -19.274627408215196 -34.62968011632134 -27.37815794256634\n",
      "31: /workspaces/data/brain_meningioma/bet/b_val_mni/BraTS-MEN-RT-0440-1_t1c_gtv_mask.nii.gz\n",
      "centroid:  -22.711977112812193 -27.759632980231444 -27.295368437330858\n",
      "32: /workspaces/data/brain_meningioma/bet/b_val_mni/BraTS-MEN-RT-0444-1_t1c_gtv_mask.nii.gz\n",
      "centroid:  18.911403508771926 -21.7780701754386 -33.42368421052632\n",
      "33: /workspaces/data/brain_meningioma/bet/b_val_mni/BraTS-MEN-RT-0464-1_t1c_gtv_mask.nii.gz\n",
      "centroid:  7.642880206651597 41.09719082983531 50.571843719728776\n",
      "34: /workspaces/data/brain_meningioma/bet/b_val_mni/BraTS-MEN-RT-0476-1_t1c_gtv_mask.nii.gz\n",
      "centroid:  -8.06296096420219 -48.72567008454757 -58.405738442165855\n",
      "35: /workspaces/data/brain_meningioma/bet/b_val_mni/BraTS-MEN-RT-0486-1_t1c_gtv_mask.nii.gz\n",
      "centroid:  25.653914017169427 -51.32184181059347 -34.150096705235654\n",
      "36: /workspaces/data/brain_meningioma/bet/b_val_mni/BraTS-MEN-RT-0495-1_t1c_gtv_mask.nii.gz\n",
      "centroid:  15.849074716015153 1.4207242280411663 -29.434056850301317\n",
      "37: /workspaces/data/brain_meningioma/bet/b_val_mni/BraTS-MEN-RT-0519-1_t1c_gtv_mask.nii.gz\n",
      "centroid:  -26.54820415879017 -28.53308128544424 -40.74858223062382\n",
      "38: /workspaces/data/brain_meningioma/bet/b_val_mni/BraTS-MEN-RT-0525-1_t1c_gtv_mask.nii.gz\n",
      "centroid:  41.78400503778337 -73.84225440806046 -27.28211586901763\n",
      "39: /workspaces/data/brain_meningioma/bet/b_val_mni/BraTS-MEN-RT-0528-1_t1c_gtv_mask.nii.gz\n",
      "centroid:  33.201754385964904 -14.040935672514621 69.57309941520467\n",
      "40: /workspaces/data/brain_meningioma/bet/b_val_mni/BraTS-MEN-RT-0532-1_t1c_gtv_mask.nii.gz\n",
      "centroid:  7.4080525883319694 54.24847986852916 -19.46014790468365\n",
      "41: /workspaces/data/brain_meningioma/bet/b_val_mni/BraTS-MEN-RT-0539-1_t1c_gtv_mask.nii.gz\n",
      "centroid:  -45.238239719653926 10.350006929458118 14.955829654121047\n",
      "42: /workspaces/data/brain_meningioma/bet/b_val_mni/BraTS-MEN-RT-0553-1_t1c_gtv_mask.nii.gz\n",
      "centroid:  26.81303727200634 -6.239524187153052 51.64402854877082\n",
      "43: /workspaces/data/brain_meningioma/bet/b_val_mni/BraTS-MEN-RT-0572-1_t1c_gtv_mask.nii.gz\n",
      "centroid:  -2.2438853598759607 39.01080378132346 -32.35667483619267\n",
      "44: /workspaces/data/brain_meningioma/bet/b_val_mni/BraTS-MEN-RT-0594-1_t1c_gtv_mask.nii.gz\n",
      "centroid:  32.019185249782 -44.1522362028155 -36.853245297122214\n",
      "45: /workspaces/data/brain_meningioma/bet/b_val_mni/BraTS-MEN-RT-0621-1_t1c_gtv_mask.nii.gz\n",
      "centroid:  -44.70369550785572 -6.958840451427307 56.82119938039389\n"
     ]
    }
   ],
   "source": [
    "data_root = '/workspaces/data/brain_meningioma/bet'\n",
    "cat = 'val'\n",
    "\n",
    "mask_paths = sorted(glob.glob(f'{data_root}/b_{cat}_mni/*_gtv_mask.nii.gz*'))\n",
    "listV = []\n",
    "for i, maskpath in enumerate(mask_paths):\n",
    "    id = os.path.split(maskpath)[-1].split('-')[3]\n",
    "    # if id!='0041':\n",
    "    #     continue\n",
    "    # if i> 9:\n",
    "    #     break\n",
    "    print(f'{i+1}: {maskpath}')\n",
    "    mask_img = nib.load(maskpath)\n",
    "    mask_data = mask_img.get_fdata() > 0.5\n",
    "    coords = np.argwhere(mask_data > 0)\n",
    "    centroid_voxel = coords.mean(axis=0)\n",
    "    centroid_mni = apply_affine(mask_img.affine, centroid_voxel)\n",
    "    x, y, z = centroid_mni\n",
    "    print(\"centroid: \", x, y, z)\n",
    "    \n",
    "    # make_mni(maskpath)\n",
    "    listV.append([os.path.split(maskpath)[-1].split('-')[3], \n",
    "                 *get_lobe_from_mni_coords(x, y, z, atlas_img, atlas['labels'], lobe_mapping)])\n",
    "\n",
    "    dfRegionV = pd.DataFrame(listV,columns=['id', 'lobe', 'regionname', 'coords'])"
   ]
  },
  {
   "cell_type": "code",
   "execution_count": 53,
   "id": "c28a9027",
   "metadata": {},
   "outputs": [
    {
     "data": {
      "text/html": [
       "<div>\n",
       "<style scoped>\n",
       "    .dataframe tbody tr th:only-of-type {\n",
       "        vertical-align: middle;\n",
       "    }\n",
       "\n",
       "    .dataframe tbody tr th {\n",
       "        vertical-align: top;\n",
       "    }\n",
       "\n",
       "    .dataframe thead th {\n",
       "        text-align: right;\n",
       "    }\n",
       "</style>\n",
       "<table border=\"1\" class=\"dataframe\">\n",
       "  <thead>\n",
       "    <tr style=\"text-align: right;\">\n",
       "      <th></th>\n",
       "      <th>id</th>\n",
       "      <th>lobe</th>\n",
       "      <th>regionname</th>\n",
       "      <th>coords</th>\n",
       "    </tr>\n",
       "  </thead>\n",
       "  <tbody>\n",
       "    <tr>\n",
       "      <th>2</th>\n",
       "      <td>0022</td>\n",
       "      <td>None</td>\n",
       "      <td>Background</td>\n",
       "      <td>(119, 187, 94)</td>\n",
       "    </tr>\n",
       "    <tr>\n",
       "      <th>5</th>\n",
       "      <td>0053</td>\n",
       "      <td>None</td>\n",
       "      <td>Background</td>\n",
       "      <td>(97, 194, 97)</td>\n",
       "    </tr>\n",
       "    <tr>\n",
       "      <th>22</th>\n",
       "      <td>0246</td>\n",
       "      <td>None</td>\n",
       "      <td>Background</td>\n",
       "      <td>(117, 194, 73)</td>\n",
       "    </tr>\n",
       "  </tbody>\n",
       "</table>\n",
       "</div>"
      ],
      "text/plain": [
       "      id  lobe  regionname          coords\n",
       "2   0022  None  Background  (119, 187, 94)\n",
       "5   0053  None  Background   (97, 194, 97)\n",
       "22  0246  None  Background  (117, 194, 73)"
      ]
     },
     "execution_count": 53,
     "metadata": {},
     "output_type": "execute_result"
    }
   ],
   "source": [
    "dfRegion[dfRegion['lobe'].isna()]\n"
   ]
  },
  {
   "cell_type": "code",
   "execution_count": 54,
   "id": "3efe5f41",
   "metadata": {},
   "outputs": [
    {
     "data": {
      "text/html": [
       "<div>\n",
       "<style scoped>\n",
       "    .dataframe tbody tr th:only-of-type {\n",
       "        vertical-align: middle;\n",
       "    }\n",
       "\n",
       "    .dataframe tbody tr th {\n",
       "        vertical-align: top;\n",
       "    }\n",
       "\n",
       "    .dataframe thead th {\n",
       "        text-align: right;\n",
       "    }\n",
       "</style>\n",
       "<table border=\"1\" class=\"dataframe\">\n",
       "  <thead>\n",
       "    <tr style=\"text-align: right;\">\n",
       "      <th></th>\n",
       "      <th>id</th>\n",
       "      <th>lobe</th>\n",
       "      <th>regionname</th>\n",
       "      <th>coords</th>\n",
       "    </tr>\n",
       "  </thead>\n",
       "  <tbody>\n",
       "    <tr>\n",
       "      <th>10</th>\n",
       "      <td>0195</td>\n",
       "      <td>None</td>\n",
       "      <td>Background</td>\n",
       "      <td>(103, 167, 111)</td>\n",
       "    </tr>\n",
       "    <tr>\n",
       "      <th>16</th>\n",
       "      <td>0267</td>\n",
       "      <td>None</td>\n",
       "      <td>Background</td>\n",
       "      <td>(118, 180, 96)</td>\n",
       "    </tr>\n",
       "    <tr>\n",
       "      <th>32</th>\n",
       "      <td>0464</td>\n",
       "      <td>None</td>\n",
       "      <td>Background</td>\n",
       "      <td>(82, 167, 123)</td>\n",
       "    </tr>\n",
       "    <tr>\n",
       "      <th>39</th>\n",
       "      <td>0532</td>\n",
       "      <td>None</td>\n",
       "      <td>Background</td>\n",
       "      <td>(83, 180, 53)</td>\n",
       "    </tr>\n",
       "  </tbody>\n",
       "</table>\n",
       "</div>"
      ],
      "text/plain": [
       "      id  lobe  regionname           coords\n",
       "10  0195  None  Background  (103, 167, 111)\n",
       "16  0267  None  Background   (118, 180, 96)\n",
       "32  0464  None  Background   (82, 167, 123)\n",
       "39  0532  None  Background    (83, 180, 53)"
      ]
     },
     "execution_count": 54,
     "metadata": {},
     "output_type": "execute_result"
    }
   ],
   "source": [
    "dfRegionV[dfRegionV['lobe'].isna()]"
   ]
  },
  {
   "cell_type": "code",
   "execution_count": 55,
   "id": "526d325a",
   "metadata": {},
   "outputs": [
    {
     "data": {
      "text/plain": [
       "lobe\n",
       "Frontal      16\n",
       "Temporal     13\n",
       "Occipital     6\n",
       "Parietal      4\n",
       "Insula        2\n",
       "Name: count, dtype: int64"
      ]
     },
     "execution_count": 55,
     "metadata": {},
     "output_type": "execute_result"
    }
   ],
   "source": [
    "dfRegionV['lobe'].value_counts()"
   ]
  },
  {
   "cell_type": "code",
   "execution_count": null,
   "id": "02528eca",
   "metadata": {},
   "outputs": [],
   "source": [
    "dfRA = pd.concat([dfRegion[['id','lobe']], dfRegionV[['id','lobe']] ],ignore_index=True)\n",
    "dfRA['id'] = dfRA['id'].astype(str)\n",
    "dfRA.to_csv('/workspaces/data/MegaGen/logs/SCORE/CSVS/id_lobe.csv',index=False)"
   ]
  },
  {
   "cell_type": "code",
   "execution_count": 123,
   "id": "fd82d1cc",
   "metadata": {},
   "outputs": [
    {
     "data": {
      "text/plain": [
       "id              object\n",
       "lobe_overlap    object\n",
       "dtype: object"
      ]
     },
     "execution_count": 123,
     "metadata": {},
     "output_type": "execute_result"
    }
   ],
   "source": [
    "dfRA.dtypes"
   ]
  },
  {
   "cell_type": "code",
   "execution_count": null,
   "id": "79082819",
   "metadata": {},
   "outputs": [
    {
     "data": {
      "text/plain": [
       "(197, 233, 189)"
      ]
     },
     "execution_count": 15,
     "metadata": {},
     "output_type": "execute_result"
    }
   ],
   "source": [
    "mask_img.shape"
   ]
  },
  {
   "cell_type": "code",
   "execution_count": 75,
   "id": "b35c2b40",
   "metadata": {},
   "outputs": [
    {
     "data": {
      "text/plain": [
       "array([ 2.60975791, 52.55349406,  7.86845587])"
      ]
     },
     "execution_count": 75,
     "metadata": {},
     "output_type": "execute_result"
    }
   ],
   "source": [
    "apply_affine(atlas_img.affine , np.argwhere(atlas_img.get_fdata()==1).mean(axis=0) )"
   ]
  },
  {
   "cell_type": "code",
   "execution_count": 76,
   "id": "2d711dcd",
   "metadata": {},
   "outputs": [
    {
     "data": {
      "text/plain": [
       "array([ 4.45524504e-03, -9.58328926e+01,  7.50325209e+00])"
      ]
     },
     "execution_count": 76,
     "metadata": {},
     "output_type": "execute_result"
    }
   ],
   "source": [
    "apply_affine(atlas_img.affine , np.argwhere(atlas_img.get_fdata()==48).mean(axis=0) )"
   ]
  },
  {
   "cell_type": "code",
   "execution_count": null,
   "id": "1b0dd249",
   "metadata": {},
   "outputs": [
    {
     "data": {
      "text/plain": [
       "'Frontal Pole'"
      ]
     },
     "execution_count": 74,
     "metadata": {},
     "output_type": "execute_result"
    }
   ],
   "source": []
  },
  {
   "cell_type": "code",
   "execution_count": 42,
   "id": "f8c7044b",
   "metadata": {},
   "outputs": [
    {
     "data": {
      "text/plain": [
       "array([ 93.21274118, 205.57052562, 100.11194278])"
      ]
     },
     "execution_count": 42,
     "metadata": {},
     "output_type": "execute_result"
    }
   ],
   "source": [
    "np.argwhere(mask_img.get_fdata()>0).mean(axis=0)"
   ]
  },
  {
   "cell_type": "code",
   "execution_count": 43,
   "id": "98c8109f",
   "metadata": {},
   "outputs": [],
   "source": [
    "maskT = nib.load('/workspaces/data/brain_meningioma/bet/b_test_mni/BraTS-MEN-RT-0041-1_t1c_gtv_mask.nii.gz')"
   ]
  },
  {
   "cell_type": "code",
   "execution_count": 44,
   "id": "aa60eb4d",
   "metadata": {},
   "outputs": [
    {
     "data": {
      "text/plain": [
       "array([74.49804479, 54.62424458, 48.38570921])"
      ]
     },
     "execution_count": 44,
     "metadata": {},
     "output_type": "execute_result"
    }
   ],
   "source": [
    "np.argwhere(maskT.get_fdata()>0).mean(axis=0)"
   ]
  },
  {
   "cell_type": "code",
   "execution_count": 47,
   "id": "ddc70d80",
   "metadata": {},
   "outputs": [
    {
     "data": {
      "text/plain": [
       "array([ 93.21274118, 205.57052562, 100.11194278])"
      ]
     },
     "execution_count": 47,
     "metadata": {},
     "output_type": "execute_result"
    }
   ],
   "source": [
    "np.argwhere(mask_data>0).mean(axis=0)"
   ]
  },
  {
   "cell_type": "code",
   "execution_count": 48,
   "id": "1148064e",
   "metadata": {},
   "outputs": [
    {
     "data": {
      "text/plain": [
       "array([ 0., 40.])"
      ]
     },
     "execution_count": 48,
     "metadata": {},
     "output_type": "execute_result"
    }
   ],
   "source": [
    "np.unique(atlas_data[maskT.get_fdata()>0])"
   ]
  },
  {
   "cell_type": "code",
   "execution_count": 54,
   "id": "f58777b2",
   "metadata": {},
   "outputs": [
    {
     "data": {
      "text/plain": [
       "array([[   1.,    0.,    0.,  -98.],\n",
       "       [   0.,    1.,    0., -134.],\n",
       "       [   0.,    0.,    1.,  -72.],\n",
       "       [   0.,    0.,    0.,    1.]])"
      ]
     },
     "execution_count": 54,
     "metadata": {},
     "output_type": "execute_result"
    }
   ],
   "source": [
    "mask_img.affine"
   ]
  },
  {
   "cell_type": "code",
   "execution_count": null,
   "id": "cebd6c3b",
   "metadata": {},
   "outputs": [],
   "source": []
  }
 ],
 "metadata": {
  "kernelspec": {
   "display_name": "Python 3",
   "language": "python",
   "name": "python3"
  },
  "language_info": {
   "codemirror_mode": {
    "name": "ipython",
    "version": 3
   },
   "file_extension": ".py",
   "mimetype": "text/x-python",
   "name": "python",
   "nbconvert_exporter": "python",
   "pygments_lexer": "ipython3",
   "version": "3.10.12"
  }
 },
 "nbformat": 4,
 "nbformat_minor": 5
}
