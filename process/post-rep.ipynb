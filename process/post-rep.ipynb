{
 "cells": [
  {
   "cell_type": "markdown",
   "id": "ae9d6439",
   "metadata": {},
   "source": [
    "### Output numbers and plots for reporting"
   ]
  },
  {
   "cell_type": "code",
   "execution_count": null,
   "id": "b95c415f",
   "metadata": {},
   "outputs": [],
   "source": [
    "# See tensorbord reports\n",
    "\n",
    "import matplotlib.pyplot as plt\n",
    "from tbparse import SummaryReader\n",
    "# log_dir = \"/workspaces/data/MegaGen/UNet/unet_20250626-115229\"\n",
    "log_dir = \"/workspaces/data/MegaGen/UNet/unet01_20250628-084620\" # for smooth=1 same dice loss as LG2UNETR\n",
    "log_dir2 = \"/workspaces/data/MegaGen/LG2UNETR/unet_20250701-123155\" \n",
    "reader = SummaryReader(log_dir)\n",
    "reader2 = SummaryReader(log_dir2)\n",
    "df = reader.scalars\n",
    "df2 = reader2.scalars\n",
    "print(df)"
   ]
  }
 ],
 "metadata": {
  "language_info": {
   "name": "python"
  }
 },
 "nbformat": 4,
 "nbformat_minor": 5
}
